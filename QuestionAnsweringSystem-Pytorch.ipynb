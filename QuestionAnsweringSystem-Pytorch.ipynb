{
 "cells": [
  {
   "cell_type": "markdown",
   "metadata": {},
   "source": [
    "# QA System"
   ]
  },
  {
   "cell_type": "markdown",
   "metadata": {},
   "source": [
    "## Question Similarity Model"
   ]
  },
  {
   "cell_type": "code",
   "execution_count": null,
   "metadata": {
    "slideshow": {
     "slide_type": "slide"
    }
   },
   "outputs": [],
   "source": [
    "import sys\n",
    "sys.path.append('/home/srikamma/efs/workspace/CS-QASystem-Torch/src/CS-QASystem-Torch/src/cs_qa_system_torch/')"
   ]
  },
  {
   "cell_type": "markdown",
   "metadata": {},
   "source": [
    "### S-Bert Train"
   ]
  },
  {
   "cell_type": "code",
   "execution_count": null,
   "metadata": {},
   "outputs": [],
   "source": [
    "#train model\n",
    "%%run -i /Users/yqinamz/Desktop/QA_BOT/CS-QASystem-Torch/src/CS-QASystem-Torch/src/cs_qa_system_torch/train_QSM_Sbert.py \\\n",
    "--pretrain_model_path '/home/yqinamz/output/quora_sts-bert-base-nli-mean-tokens-2020-08-17_20-53-14/' \\\n",
    "--model_name '/home/yqinamz/output/Sbert_test' \\\n",
    "--train_data_path '/home/yqinamz/QA_Bot/QA_EXP/EXP_1002/Mix_2USE_8R_1009/' \n",
    "\n",
    "\n"
   ]
  },
  {
   "cell_type": "markdown",
   "metadata": {},
   "source": [
    "### Inference on Question-Pairs"
   ]
  },
  {
   "cell_type": "code",
   "execution_count": null,
   "metadata": {},
   "outputs": [],
   "source": [
    "%%run -i /Users/yqinamz/Desktop/QA_BOT/CS-QASystem-Torch/src/CS-QASystem-Torch/src/cs_qa_system_torch/QSM_inference.py \\\n",
    "--saved_model_path '/home/yqinamz/output/quora_sts-bert-base-nli-mean-tokens-2020-08-17_20-53-14/' \\\n",
    "--test_data_path '/home/yqinamz/QA_Bot/QA_EXP/EXP_1002/Mix_2USE_8R_1009/test_sample.tsv'\n"
   ]
  },
  {
   "cell_type": "markdown",
   "metadata": {},
   "source": [
    "### Real-Time Prediction for QSM"
   ]
  },
  {
   "cell_type": "code",
   "execution_count": null,
   "metadata": {},
   "outputs": [],
   "source": []
  },
  {
   "cell_type": "markdown",
   "metadata": {},
   "source": [
    "## Information Retrieval"
   ]
  },
  {
   "cell_type": "markdown",
   "metadata": {},
   "source": [
    "### Training IR Model"
   ]
  },
  {
   "cell_type": "code",
   "execution_count": null,
   "metadata": {},
   "outputs": [],
   "source": [
    "import sys\n",
    "sys.path.append('/home/srikamma/efs/workspace/CS-QASystem-Torch/src/CS-QASystem-Torch/src/cs_qa_system_torch/')"
   ]
  },
  {
   "cell_type": "code",
   "execution_count": null,
   "metadata": {},
   "outputs": [],
   "source": [
    "## Here model_name_or_path could be any mapping that AutoModel supports if architecture is ['bi', 'cross'] \n",
    "## and model_name_or_path ould be any mapping that AutoModelForClassification if architecture is 'cross-default'\n",
    "## if you want to add new model you need add new instance of in ir_model to get the right output\n",
    "## NOTE: model_name_or_path COULD BE A LOCAL PATH OR CHECKPOINT DIRECTORY WHERE THE MODEL WILL START FINETINING FROM THAT POINT\n",
    "## NOTE: model_type can be anythinf for now. It is not being used.\n",
    "\n",
    "%%time\n",
    "%run -i /home/srikamma/efs/workspace/CS-QASystem-Torch/src/CS-QASystem-Torch/src/cs_qa_system_torch/information_retrieval/ir_train.py \\\n",
    "        --train_data_path '/data/QAData/InformationRetrievalData/amazon/train.tsv' \\\n",
    "        --test_data_path '/data/QAData/InformationRetrievalData/amazon/test.tsv' \\\n",
    "        --model_name_or_path 'bert-base-uncased' \\\n",
    "        --architecture 'cross' \\\n",
    "        --do_lower_case \\\n",
    "        --train_batch_size 64 \\\n",
    "        --test_batch_size 128 \\\n",
    "        --num_train_epochs 2 \\\n",
    "        --gpu 2,3,4,5 \\\n",
    "        --save_steps 1000 \\\n",
    "        --print_freq 500 \\\n",
    "        --output_dir '/home/srikamma/efs/work/QASystem/QAModel/output_torch/cross/ir_artifacts/bertbase/'\n",
    "    "
   ]
  },
  {
   "cell_type": "markdown",
   "metadata": {},
   "source": [
    "### FineTuning IR Model"
   ]
  },
  {
   "cell_type": "code",
   "execution_count": null,
   "metadata": {},
   "outputs": [],
   "source": [
    "import sys\n",
    "sys.path.append('/home/srikamma/efs/workspace/CS-QASystem-Torch/src/CS-QASystem-Torch/src/cs_qa_system_torch/')"
   ]
  },
  {
   "cell_type": "code",
   "execution_count": null,
   "metadata": {},
   "outputs": [],
   "source": [
    "%%time\n",
    "%run -i /home/srikamma/efs/workspace/CS-QASystem-Torch/src/CS-QASystem-Torch/src/cs_qa_system_torch/information_retrieval/ir_train.py \\\n",
    "        --train_data_path '/data/QAData/InformationRetrievalData/amazon/finetune_rank_train.tsv' \\\n",
    "        --test_data_path '/data/QAData/InformationRetrievalData/amazon/finetune_rank_test.tsv' \\\n",
    "        --model_name_or_path '/home/srikamma/efs/work/QASystem/QAModel/output_torch/cross/ir_artifacts/bertbase/' \\\n",
    "        --architecture 'cross' \\\n",
    "        --do_lower_case \\\n",
    "        --train_batch_size 64 \\\n",
    "        --test_batch_size 128 \\\n",
    "        --num_train_epochs 2 \\\n",
    "        --gpu 2,3,4,5 \\\n",
    "        --save_steps 1000 \\\n",
    "        --print_freq 500 \\\n",
    "        --output_dir '/home/srikamma/efs/work/QASystem/QAModel/output_torch/cross/ir_artifacts/bertbase_finetuned/'"
   ]
  },
  {
   "cell_type": "markdown",
   "metadata": {},
   "source": [
    "### Bulk Inference IR Model"
   ]
  },
  {
   "cell_type": "code",
   "execution_count": null,
   "metadata": {},
   "outputs": [],
   "source": [
    "import sys\n",
    "sys.path.append('/home/srikamma/efs/workspace/CS-QASystem-Torch/src/CS-QASystem-Torch/src/cs_qa_system_torch/')"
   ]
  },
  {
   "cell_type": "code",
   "execution_count": null,
   "metadata": {},
   "outputs": [],
   "source": [
    "%%time\n",
    "%run -i /home/srikamma/efs/workspace/CS-QASystem-Torch/src/CS-QASystem-Torch/src/cs_qa_system_torch/information_retrieval/ir_inference_mlmodel.py \\\n",
    "    --test_data_path '/data/QAData/InformationRetrievalData/amazon/finetune_rank_test.tsv' \\\n",
    "    --test_batch_size 128 \\\n",
    "    --model_name_or_path '/home/srikamma/efs/work/QASystem/QAModel/output_torch/cross/ir_artifacts/bertbase/' \\\n",
    "    --architecture 'cross' \\\n",
    "    --do_lower_case \\\n",
    "    --prediction_file 'prediction.csv' \\\n",
    "    --gpu 2,3 \\\n",
    "    --output_dir '/home/srikamma/efs/work/QASystem/QAModel/output_torch/cross/ir_artifacts/bertbase_inference/'"
   ]
  },
  {
   "cell_type": "markdown",
   "metadata": {},
   "source": [
    "### Real Time Inference IR Model"
   ]
  },
  {
   "cell_type": "code",
   "execution_count": null,
   "metadata": {},
   "outputs": [],
   "source": [
    "import sys\n",
    "sys.path.append('/home/srikamma/efs/workspace/CS-QASystem-Torch/src/CS-QASystem-Torch/src/cs_qa_system_torch/')\n",
    "sys.path.append('/home/srikamma/efs/workspace/CS-QASystem-Torch/src/CS-QASystem-Torch/src/cs_qa_system_torch/information_retrieval/')\n",
    "from ir_inference_mlmodel import ScorePrediction\n",
    "import pandas as pd\n",
    "pd.set_option('display.max_colwidth', None)"
   ]
  },
  {
   "cell_type": "code",
   "execution_count": null,
   "metadata": {},
   "outputs": [],
   "source": [
    "%%time\n",
    "query = 'how to cancel my prime membership'\n",
    "passage = 'About Prime Gift Membership Cancellations: If you need to cancel a Prime gift membership that hasn\\'t already been sent or has been sent but not redeemed, please contact us. Once a Prime gift membership has been redeemed by the recipient, it can\\'t be canceled. The scheduled delivery date also can\\'t be changed once your purchase has completed. If you need to update a delivery date, contact us so we can cancel the existing gift. You can then place a new order.'\n",
    "out = ScorePrediction.get_document_score(query,passage)\n",
    "print(out)"
   ]
  },
  {
   "cell_type": "markdown",
   "metadata": {},
   "source": [
    "### Bulk Inference (BM25 + IR) Model "
   ]
  },
  {
   "cell_type": "code",
   "execution_count": null,
   "metadata": {},
   "outputs": [],
   "source": [
    "import sys\n",
    "sys.path.append('/home/srikamma/efs/workspace/CS-QASystem-Torch/src/CS-QASystem-Torch/src/cs_qa_system_torch/')"
   ]
  },
  {
   "cell_type": "code",
   "execution_count": null,
   "metadata": {},
   "outputs": [],
   "source": [
    "%%time\n",
    "%run -i /home/srikamma/efs/workspace/CS-QASystem-Torch/src/CS-QASystem-Torch/src/cs_qa_system_torch/information_retrieval/ir_inference_combined.py \\\n",
    "    --passage_collection_path '/data/QAData/InformationRetrievalData/amazon/collection.json' \\\n",
    "    --qrels_path '/data/QAData/InformationRetrievalData/amazon/qrels.json' \\\n",
    "    --ir_model_name 'BM25Okapi' \\\n",
    "    --word_tokenizer_name 'simple_word_tokenizer' \\\n",
    "    --index_top_n 50 \\\n",
    "    --model_name_or_path 'output_torch/cross/ir_artifacts/bertbase_finetuned/' \\\n",
    "    --architecture 'cross' \\\n",
    "    --do_lower_case \\\n",
    "    --test_batch_size 512 \\\n",
    "    --gpu 2,3 \\\n",
    "    --prediction_file 'predictions.csv' \\\n",
    "    --output_dir '/home/srikamma/efs/work/QASystem/QAModel/output_torch/cross/ir_artifacts/bertbase_inference/'"
   ]
  },
  {
   "cell_type": "markdown",
   "metadata": {},
   "source": [
    "### Real Time Inference (BM25 + IR) Model"
   ]
  },
  {
   "cell_type": "code",
   "execution_count": 12,
   "metadata": {},
   "outputs": [],
   "source": [
    "import sys\n",
    "sys.path.append('/home/srikamma/efs/workspace/CS-QASystem-Torch/src/CS-QASystem-Torch/src/cs_qa_system_torch/')\n",
    "from information_retrieval.ir_inference_combined import ScorePrediction\n",
    "import pandas as pd\n",
    "pd.set_option('display.max_colwidth', None)"
   ]
  },
  {
   "cell_type": "code",
   "execution_count": 15,
   "metadata": {},
   "outputs": [
    {
     "name": "stdout",
     "output_type": "stream",
     "text": [
      "CPU times: user 54 s, sys: 25 s, total: 1min 18s\n",
      "Wall time: 2.52 s\n"
     ]
    }
   ],
   "source": [
    "%%time\n",
    "query = 'yes'\n",
    "out = ScorePrediction.get_documents(query)"
   ]
  },
  {
   "cell_type": "code",
   "execution_count": 16,
   "metadata": {},
   "outputs": [
    {
     "data": {
      "text/html": [
       "<div>\n",
       "<style scoped>\n",
       "    .dataframe tbody tr th:only-of-type {\n",
       "        vertical-align: middle;\n",
       "    }\n",
       "\n",
       "    .dataframe tbody tr th {\n",
       "        vertical-align: top;\n",
       "    }\n",
       "\n",
       "    .dataframe thead th {\n",
       "        text-align: right;\n",
       "    }\n",
       "</style>\n",
       "<table border=\"1\" class=\"dataframe\">\n",
       "  <thead>\n",
       "    <tr style=\"text-align: right;\">\n",
       "      <th></th>\n",
       "      <th>qid</th>\n",
       "      <th>pid</th>\n",
       "      <th>query</th>\n",
       "      <th>passage</th>\n",
       "      <th>ir_score</th>\n",
       "      <th>ml_score</th>\n",
       "    </tr>\n",
       "  </thead>\n",
       "  <tbody>\n",
       "    <tr>\n",
       "      <th>0</th>\n",
       "      <td>1</td>\n",
       "      <td>46</td>\n",
       "      <td>yes</td>\n",
       "      <td>Unlimited Cloud Storage for Photos on Fire Tablets: Last updated: September 17, 2014. Fire tablet owners get free, unlimited photo storage, in full resolution, for all of their photos taken with their Fire tablet. Do I have to register my Fire tablet to get free unlimited photo storage from Amazon Drive? Yes. You will have to register your Fire tablet with your Amazon account to enjoy this benefit. Will my original photos be uploaded? Yes. Your photos will be uploaded and saved in your Amazon Drive account as-is. Can I upload just photos? No. When you turn on Auto-Save, your Fire tablet will upload both photos and videos. What happens to my video uploads when I go over my Amazon Drive storage limit? When you go over your storage limit, your Fire tablet will not upload your videos. Photos taken with your Fire tablet will continue to be uploaded and will not count against your storage limit. You can buy more storage or delete existing content on Amazon Drive to make room for videos to upload. I want to give my Fire tablet to my daughter. Will she get unlimited photo storage? Yes, your daughter will get the unlimited storage benefit when she registers the Fire tablet with her Amazon account. Will I lose the photos and videos that I have previously uploaded when I give away my Fire tablet? No. You can continue to view and download your photos and videos uploaded from your Fire tablet from Amazon Drive. When you buy a new Fire tablet, the uploaded photos and videos from your previous Fire tablet will be available on your new Fire tablet when you register your device with your Amazon account. I am an existing Amazon Drive customer; will I get unlimited photo storage for my new Fire tablet? Yes. When you register your new Fire tablet, you will automatically enjoy unlimited storage for all the photos you take with your new Fire tablet. Your Amazon Drive account will reflect this new benefit. Additional Terms &amp; Conditions. The unlimited photo storage benefit (the \"Benefit\") is not transferable, exchangeable or redeemable for cash and only applies to photos taken and uploaded from a Fire tablet registered to your Amazon account. Your use of the Benefit is subject to the [Cloud Drive Terms of Use](http://www.amazon.com/cd/tou). Void where prohibited by law. We reserve the right to terminate or modify this offer at any time.</td>\n",
       "      <td>9.187283</td>\n",
       "      <td>0.041589</td>\n",
       "    </tr>\n",
       "    <tr>\n",
       "      <th>1</th>\n",
       "      <td>1</td>\n",
       "      <td>102</td>\n",
       "      <td>yes</td>\n",
       "      <td>Redeem a Gift Card: Once applied to your Amazon account, the entire amount will be added to your gift card balance. Your gift card balance will be applied automatically to eligible orders during the checkout process and when using 1-Click. If you don't want to use your gift card balance on your order, you can unselect it as a payment method in checkout. Need to redeem a gift card? [Redeem a Gift Card](https://www.amazon.com/gp/css/gc/payment/view-gc-balance?). Locate the claim code. Note: For plastic gift cards, you may need to scratch off the coating on the back of the card to reveal the claim code. The claim code isn't the 16-digit card number. Go to [Your Account](https://www.amazon.com/gp/css/your-account-access). Click Apply a Gift Card to Your Account. Enter your claim code and click Apply to Your Balance. Note: You can also enter your claim code during checkout. You won't be able to redeem your gift card using the Amazon.com 1-Click service unless you redeem the gift card funds to Your Account first. Note: If your order total is more than your gift card funds, the extra can be paid for by credit card.</td>\n",
       "      <td>0.000000</td>\n",
       "      <td>0.112079</td>\n",
       "    </tr>\n",
       "    <tr>\n",
       "      <th>2</th>\n",
       "      <td>1</td>\n",
       "      <td>104</td>\n",
       "      <td>yes</td>\n",
       "      <td>Resolve a Declined Payment: To protect your security and privacy, your bank can't provide Amazon with information about why your payment was declined. Contact your bank directly to solve these payment issues. To retry a declined payment, go to [Your Orders](www.amazon.com/gp/your-account/order-history). To determine why your payment was declined, consider the following, and, if necessary, contact your bank for more information: Have you exceeded your credit limit? Did you enter your credit card number, credit card expiration date, billing address, and phone number correctly in [Your Account](www.amazon.com/youraccount)? Is your purchase outside of your normal spending range? Some banks will block transactions due to security concerns. Does your issuing bank have special policies regarding electronic or internet purchases? To retry a declined payment: Go to [Your Orders](www.amazon.com/gp/your-account/order-history). Do one of the following: Try again with a different payment method, as follows: Select Change Payment Method next to the order you want to modify. Select another payment method from your account or submit a new card number and select Confirm. Select Retry Payment Method next to the order. Retry with your current payment method by selecting Retry Payment Method next to the order.</td>\n",
       "      <td>0.000000</td>\n",
       "      <td>0.120437</td>\n",
       "    </tr>\n",
       "    <tr>\n",
       "      <th>3</th>\n",
       "      <td>1</td>\n",
       "      <td>105</td>\n",
       "      <td>yes</td>\n",
       "      <td>Track Your Package on a Mobile Device: You can track your orders through Your Account on your mobile device, even if the order wasn't originally placed through that device. To track your order: From the Amazon App for your iPhone/iPad, tap More. From your Android phone, tap the three horizontal bars in the upper, left of the home screen. Tap Your Orders. Find the order you want to view and tap View, change, or track order if using a mobile application, or Track Item if using a mobile browser. Note: If the order you wish to view is not displayed, change the Orders placed in the last 6 months option at the top of the Order history screen.</td>\n",
       "      <td>0.000000</td>\n",
       "      <td>0.027721</td>\n",
       "    </tr>\n",
       "    <tr>\n",
       "      <th>4</th>\n",
       "      <td>1</td>\n",
       "      <td>96</td>\n",
       "      <td>yes</td>\n",
       "      <td>Return a Kindle Book Order: Cancel an accidental book order within seven days.  Approved refunds are credited to the original payment source within three to five days. Need to cancel a Kindle book order? [Start Your Kindle Book Return](www.amazon.com/digitalorders). Go to [https://www.amazon.com/digitalorders](https://www.amazon.com/digitalorders) and sign in with the same Amazon account information you used to purchase your content. From the Digital Orders tab, select the Return for Refund button next to the title you want to return. In the pop-up window, choose the reason for return, then select Return for Refund. Tip: Prevent accidental purchases by setting parental controls.</td>\n",
       "      <td>0.000000</td>\n",
       "      <td>0.019409</td>\n",
       "    </tr>\n",
       "    <tr>\n",
       "      <th>5</th>\n",
       "      <td>1</td>\n",
       "      <td>95</td>\n",
       "      <td>yes</td>\n",
       "      <td>Cancel Amazon Music HD Subscription: : You can cancel your Amazon Music HD subscription at any time from Your Amazon Music Settings. Go to [Your Amazon Music Settings](https://www.amazon.com/music/settings). Select Cancel Subscription. Confirm the cancellation. If you wish to continue to subscribe to Amazon Music Unlimited without HD: Select Remove HD from my subscription. Confirm the cancellation. Note: Your subscription end date displays on the confirmation screen. Though you'll no longer be charged, you can continue to access titles in Amazon Music HD up until this date. After this date, any Amazon Music HD titles you've added to My Music will be greyed out, and will need to be re-downloaded in Standard quality for any offline playback.</td>\n",
       "      <td>0.000000</td>\n",
       "      <td>0.016682</td>\n",
       "    </tr>\n",
       "    <tr>\n",
       "      <th>6</th>\n",
       "      <td>1</td>\n",
       "      <td>94</td>\n",
       "      <td>yes</td>\n",
       "      <td>Find a Missing Package That Shows As Delivered: What to do if your package shows as delivered but you can't find it. If your tracking information shows that your package was delivered, but you can't find it: Within 48 hours of expected delivery. Verify the shipping address. Look for a notice of attempted delivery. Look around the delivery location for your package. See if someone else accepted the delivery, unless you have health or safety concerns about doing so. Some packages travel through multiple carriers; check your mailbox or wherever else you receive mail. Wait 48 hours - in rare cases packages may say delivered up to 48 hours prior to arrival</td>\n",
       "      <td>0.000000</td>\n",
       "      <td>0.054730</td>\n",
       "    </tr>\n",
       "    <tr>\n",
       "      <th>7</th>\n",
       "      <td>1</td>\n",
       "      <td>93</td>\n",
       "      <td>yes</td>\n",
       "      <td>Return Your Rental: You can return your rental through Your Account within the Initial Rental Refund Period to receive a full refund. If you return your rental after the Initial Rental Refund Period, you won’t be eligible for a refund of the rental fee. Need to return a Rental after 30 days? Go to [Manage Your Rentals](https://www.amazon.com/gp/rental/your-account?ie=UTF8&amp;ref_=ya_rentals&amp;). To return a rental after the initial rental period: Go to [Manage Your Rentals](https://www.amazon.com/gp/rental/your-account). Select the rental item you wish to return and then select Return rental to print the pre-paid return shipping label. Print out the packaging slip and return shipping label. Package up the textbook you wish to return, including the packaging slip. Note: To avoid incorrect fees, only rentals listed on the same packing slip should be packaged and returned together. Apply the return shipping label and take the shipment to the carrier listed on your return label. Return shipping is free when you use the shipping label provided. Note: To return a rental within the Initial Rental Refund Period, go to [Manage Your Rentals](https://www.amazon.com/gp/rental/your-account?ie=UTF8&amp;ref_=ya_rentals&amp;). If the item is in the same condition as when you received it, you’ll receive a full refund. If the item is damaged during the rental period, additional damage fees may apply. To avoid automatic extension fees, please drop your items off with the carrier on or before the due date. For more information on Rental Return periods, visit [Rentals Terms and Conditions](www.amazon.com/gp/help/customer/display.html?nodeId=201983840).</td>\n",
       "      <td>0.000000</td>\n",
       "      <td>0.090762</td>\n",
       "    </tr>\n",
       "    <tr>\n",
       "      <th>8</th>\n",
       "      <td>1</td>\n",
       "      <td>92</td>\n",
       "      <td>yes</td>\n",
       "      <td>Exchange an Item: You can exchange items that qualify through Your Orders. If the item doesn't have an exchange option or you received the item as a gift, you'll need to return the original item and place a new order. To exchange an item: Go to [Your Orders](www.amazon.com/gp/css/order-history) and select Return or replace items beside the item you want to exchange. Tip: If you don't see the order you're looking for, select the date on which you placed the order from the drop-down menu in the upper part of the page. Select the item you want to exchange, and select a reason from the Reason for return menu.  An exchange order will be created with the same shipping speed that was used on your original item. Use the return label provided to send your original item back. Return the original item within 30 days to avoid being charged for both the original and exchange items. This policy refers to color and size exchanges only. Amazon doesn't price match. If the item you're exchanging costs less than your original purchase, we'll refund you the difference. If the new item costs more, we'll charge you for the difference in price. For details on what types of items can be exchanged, see [Exchanges and Replacements](www.amazon.com/gp/help/customer/display.html?nodeId=GYG97JCDCUNGURQJ).</td>\n",
       "      <td>0.000000</td>\n",
       "      <td>0.273875</td>\n",
       "    </tr>\n",
       "    <tr>\n",
       "      <th>9</th>\n",
       "      <td>1</td>\n",
       "      <td>91</td>\n",
       "      <td>yes</td>\n",
       "      <td>Managing Your Amazon Prints Orders: You can cancel your order within one hour of placement or reorder a previous project. For prompt delivery, we begin creating your order one hour after you place it. After you place your order, you will see a timer set to one hour. Once the timer expires, your order starts processing and you're unable to cancel. If you would like to edit your order, please cancel it within this hour and make the desired changes by going to My Projects.Cancel=To cancel an order within an hour of submitting it: Go to Your Orders on Amazon.com. Click Cancel items. Confirm by selecting Cancel selected items in this order. Note: If you used an Amazon Prints promotional credit to pay for the order, the credit amount will return to your account when you cancel the order, and visible on the Credits tab..Track=To track your order: Go to Your Orders on Amazon.com. Click on Tracking Number. If you experience any issues contact us within 30 days of receiving the order and we'll work with you to make it right. Note: Damage during order production is rare; in some cases, we may ask you to submit an image of the damage.</td>\n",
       "      <td>0.000000</td>\n",
       "      <td>0.008931</td>\n",
       "    </tr>\n",
       "  </tbody>\n",
       "</table>\n",
       "</div>"
      ],
      "text/plain": [
       "   qid  pid query  \\\n",
       "0    1   46   yes   \n",
       "1    1  102   yes   \n",
       "2    1  104   yes   \n",
       "3    1  105   yes   \n",
       "4    1   96   yes   \n",
       "5    1   95   yes   \n",
       "6    1   94   yes   \n",
       "7    1   93   yes   \n",
       "8    1   92   yes   \n",
       "9    1   91   yes   \n",
       "\n",
       "                                                                                                                                                                                                                                                                                                                                                                                                                                                                                                                                                                                                                                                                                                                                                                                                                                                                                                                                                                                                                                                                                                                                                                                                                                                                                                                                                                                                                                                                                                                                                                                                                                                                                                                                                                                                                                                                                                                                                                                                                                                                                                                                                                                                                                                                                                                                                                                                                                              passage  \\\n",
       "0  Unlimited Cloud Storage for Photos on Fire Tablets: Last updated: September 17, 2014. Fire tablet owners get free, unlimited photo storage, in full resolution, for all of their photos taken with their Fire tablet. Do I have to register my Fire tablet to get free unlimited photo storage from Amazon Drive? Yes. You will have to register your Fire tablet with your Amazon account to enjoy this benefit. Will my original photos be uploaded? Yes. Your photos will be uploaded and saved in your Amazon Drive account as-is. Can I upload just photos? No. When you turn on Auto-Save, your Fire tablet will upload both photos and videos. What happens to my video uploads when I go over my Amazon Drive storage limit? When you go over your storage limit, your Fire tablet will not upload your videos. Photos taken with your Fire tablet will continue to be uploaded and will not count against your storage limit. You can buy more storage or delete existing content on Amazon Drive to make room for videos to upload. I want to give my Fire tablet to my daughter. Will she get unlimited photo storage? Yes, your daughter will get the unlimited storage benefit when she registers the Fire tablet with her Amazon account. Will I lose the photos and videos that I have previously uploaded when I give away my Fire tablet? No. You can continue to view and download your photos and videos uploaded from your Fire tablet from Amazon Drive. When you buy a new Fire tablet, the uploaded photos and videos from your previous Fire tablet will be available on your new Fire tablet when you register your device with your Amazon account. I am an existing Amazon Drive customer; will I get unlimited photo storage for my new Fire tablet? Yes. When you register your new Fire tablet, you will automatically enjoy unlimited storage for all the photos you take with your new Fire tablet. Your Amazon Drive account will reflect this new benefit. Additional Terms & Conditions. The unlimited photo storage benefit (the \"Benefit\") is not transferable, exchangeable or redeemable for cash and only applies to photos taken and uploaded from a Fire tablet registered to your Amazon account. Your use of the Benefit is subject to the [Cloud Drive Terms of Use](http://www.amazon.com/cd/tou). Void where prohibited by law. We reserve the right to terminate or modify this offer at any time.   \n",
       "1                                                                                                                                                                                                                                                                                                                                                                                                                                                                                                                                                                                                                                                                                                                                                                                                                                                                                                                                                                                                                                                                                                                                                                                                                                                                               Redeem a Gift Card: Once applied to your Amazon account, the entire amount will be added to your gift card balance. Your gift card balance will be applied automatically to eligible orders during the checkout process and when using 1-Click. If you don't want to use your gift card balance on your order, you can unselect it as a payment method in checkout. Need to redeem a gift card? [Redeem a Gift Card](https://www.amazon.com/gp/css/gc/payment/view-gc-balance?). Locate the claim code. Note: For plastic gift cards, you may need to scratch off the coating on the back of the card to reveal the claim code. The claim code isn't the 16-digit card number. Go to [Your Account](https://www.amazon.com/gp/css/your-account-access). Click Apply a Gift Card to Your Account. Enter your claim code and click Apply to Your Balance. Note: You can also enter your claim code during checkout. You won't be able to redeem your gift card using the Amazon.com 1-Click service unless you redeem the gift card funds to Your Account first. Note: If your order total is more than your gift card funds, the extra can be paid for by credit card.   \n",
       "2                                                                                                                                                                                                                                                                                                                                                                                                                                                                                                                                                                                                                                                                                                                                                                                                                                                                                                                                                                                                                                                                                     Resolve a Declined Payment: To protect your security and privacy, your bank can't provide Amazon with information about why your payment was declined. Contact your bank directly to solve these payment issues. To retry a declined payment, go to [Your Orders](www.amazon.com/gp/your-account/order-history). To determine why your payment was declined, consider the following, and, if necessary, contact your bank for more information: Have you exceeded your credit limit? Did you enter your credit card number, credit card expiration date, billing address, and phone number correctly in [Your Account](www.amazon.com/youraccount)? Is your purchase outside of your normal spending range? Some banks will block transactions due to security concerns. Does your issuing bank have special policies regarding electronic or internet purchases? To retry a declined payment: Go to [Your Orders](www.amazon.com/gp/your-account/order-history). Do one of the following: Try again with a different payment method, as follows: Select Change Payment Method next to the order you want to modify. Select another payment method from your account or submit a new card number and select Confirm. Select Retry Payment Method next to the order. Retry with your current payment method by selecting Retry Payment Method next to the order.   \n",
       "3                                                                                                                                                                                                                                                                                                                                                                                                                                                                                                                                                                                                                                                                                                                                                                                                                                                                                                                                                                                                                                                                                                                                                                                                                                                                                                                                                                                                                                                                                                                                                                                                                                                                                                                                                                                Track Your Package on a Mobile Device: You can track your orders through Your Account on your mobile device, even if the order wasn't originally placed through that device. To track your order: From the Amazon App for your iPhone/iPad, tap More. From your Android phone, tap the three horizontal bars in the upper, left of the home screen. Tap Your Orders. Find the order you want to view and tap View, change, or track order if using a mobile application, or Track Item if using a mobile browser. Note: If the order you wish to view is not displayed, change the Orders placed in the last 6 months option at the top of the Order history screen.   \n",
       "4                                                                                                                                                                                                                                                                                                                                                                                                                                                                                                                                                                                                                                                                                                                                                                                                                                                                                                                                                                                                                                                                                                                                                                                                                                                                                                                                                                                                                                                                                                                                                                                                                                                                                                                                     Return a Kindle Book Order: Cancel an accidental book order within seven days.  Approved refunds are credited to the original payment source within three to five days. Need to cancel a Kindle book order? [Start Your Kindle Book Return](www.amazon.com/digitalorders). Go to [https://www.amazon.com/digitalorders](https://www.amazon.com/digitalorders) and sign in with the same Amazon account information you used to purchase your content. From the Digital Orders tab, select the Return for Refund button next to the title you want to return. In the pop-up window, choose the reason for return, then select Return for Refund. Tip: Prevent accidental purchases by setting parental controls.   \n",
       "5                                                                                                                                                                                                                                                                                                                                                                                                                                                                                                                                                                                                                                                                                                                                                                                                                                                                                                                                                                                                                                                                                                                                                                                                                                                                                                                                                                                                                                                                                                                                                                                                                                                                       Cancel Amazon Music HD Subscription: : You can cancel your Amazon Music HD subscription at any time from Your Amazon Music Settings. Go to [Your Amazon Music Settings](https://www.amazon.com/music/settings). Select Cancel Subscription. Confirm the cancellation. If you wish to continue to subscribe to Amazon Music Unlimited without HD: Select Remove HD from my subscription. Confirm the cancellation. Note: Your subscription end date displays on the confirmation screen. Though you'll no longer be charged, you can continue to access titles in Amazon Music HD up until this date. After this date, any Amazon Music HD titles you've added to My Music will be greyed out, and will need to be re-downloaded in Standard quality for any offline playback.   \n",
       "6                                                                                                                                                                                                                                                                                                                                                                                                                                                                                                                                                                                                                                                                                                                                                                                                                                                                                                                                                                                                                                                                                                                                                                                                                                                                                                                                                                                                                                                                                                                                                                                                                                                                                                                                                                 Find a Missing Package That Shows As Delivered: What to do if your package shows as delivered but you can't find it. If your tracking information shows that your package was delivered, but you can't find it: Within 48 hours of expected delivery. Verify the shipping address. Look for a notice of attempted delivery. Look around the delivery location for your package. See if someone else accepted the delivery, unless you have health or safety concerns about doing so. Some packages travel through multiple carriers; check your mailbox or wherever else you receive mail. Wait 48 hours - in rare cases packages may say delivered up to 48 hours prior to arrival   \n",
       "7                                                                                                                                                                                                                                                                                                                                                                                                                                                                                                                                                                                                                                                                                                                                      Return Your Rental: You can return your rental through Your Account within the Initial Rental Refund Period to receive a full refund. If you return your rental after the Initial Rental Refund Period, you won’t be eligible for a refund of the rental fee. Need to return a Rental after 30 days? Go to [Manage Your Rentals](https://www.amazon.com/gp/rental/your-account?ie=UTF8&ref_=ya_rentals&). To return a rental after the initial rental period: Go to [Manage Your Rentals](https://www.amazon.com/gp/rental/your-account). Select the rental item you wish to return and then select Return rental to print the pre-paid return shipping label. Print out the packaging slip and return shipping label. Package up the textbook you wish to return, including the packaging slip. Note: To avoid incorrect fees, only rentals listed on the same packing slip should be packaged and returned together. Apply the return shipping label and take the shipment to the carrier listed on your return label. Return shipping is free when you use the shipping label provided. Note: To return a rental within the Initial Rental Refund Period, go to [Manage Your Rentals](https://www.amazon.com/gp/rental/your-account?ie=UTF8&ref_=ya_rentals&). If the item is in the same condition as when you received it, you’ll receive a full refund. If the item is damaged during the rental period, additional damage fees may apply. To avoid automatic extension fees, please drop your items off with the carrier on or before the due date. For more information on Rental Return periods, visit [Rentals Terms and Conditions](www.amazon.com/gp/help/customer/display.html?nodeId=201983840).   \n",
       "8                                                                                                                                                                                                                                                                                                                                                                                                                                                                                                                                                                                                                                                                                                                                                                                                                                                                                                                                                                                                                                                                                                    Exchange an Item: You can exchange items that qualify through Your Orders. If the item doesn't have an exchange option or you received the item as a gift, you'll need to return the original item and place a new order. To exchange an item: Go to [Your Orders](www.amazon.com/gp/css/order-history) and select Return or replace items beside the item you want to exchange. Tip: If you don't see the order you're looking for, select the date on which you placed the order from the drop-down menu in the upper part of the page. Select the item you want to exchange, and select a reason from the Reason for return menu.  An exchange order will be created with the same shipping speed that was used on your original item. Use the return label provided to send your original item back. Return the original item within 30 days to avoid being charged for both the original and exchange items. This policy refers to color and size exchanges only. Amazon doesn't price match. If the item you're exchanging costs less than your original purchase, we'll refund you the difference. If the new item costs more, we'll charge you for the difference in price. For details on what types of items can be exchanged, see [Exchanges and Replacements](www.amazon.com/gp/help/customer/display.html?nodeId=GYG97JCDCUNGURQJ).   \n",
       "9                                                                                                                                                                                                                                                                                                                                                                                                                                                                                                                                                                                                                                                                                                                                                                                                                                                                                                                                                                                                                                                                                                                                                                                                                                                                Managing Your Amazon Prints Orders: You can cancel your order within one hour of placement or reorder a previous project. For prompt delivery, we begin creating your order one hour after you place it. After you place your order, you will see a timer set to one hour. Once the timer expires, your order starts processing and you're unable to cancel. If you would like to edit your order, please cancel it within this hour and make the desired changes by going to My Projects.Cancel=To cancel an order within an hour of submitting it: Go to Your Orders on Amazon.com. Click Cancel items. Confirm by selecting Cancel selected items in this order. Note: If you used an Amazon Prints promotional credit to pay for the order, the credit amount will return to your account when you cancel the order, and visible on the Credits tab..Track=To track your order: Go to Your Orders on Amazon.com. Click on Tracking Number. If you experience any issues contact us within 30 days of receiving the order and we'll work with you to make it right. Note: Damage during order production is rare; in some cases, we may ask you to submit an image of the damage.   \n",
       "\n",
       "   ir_score  ml_score  \n",
       "0  9.187283  0.041589  \n",
       "1  0.000000  0.112079  \n",
       "2  0.000000  0.120437  \n",
       "3  0.000000  0.027721  \n",
       "4  0.000000  0.019409  \n",
       "5  0.000000  0.016682  \n",
       "6  0.000000  0.054730  \n",
       "7  0.000000  0.090762  \n",
       "8  0.000000  0.273875  \n",
       "9  0.000000  0.008931  "
      ]
     },
     "execution_count": 16,
     "metadata": {},
     "output_type": "execute_result"
    }
   ],
   "source": [
    "out\n"
   ]
  },
  {
   "cell_type": "code",
   "execution_count": null,
   "metadata": {},
   "outputs": [],
   "source": [
    "x = [ScorePrediction.transform(query,i[3]) for i in out]\n",
    "type(x[0])"
   ]
  },
  {
   "cell_type": "code",
   "execution_count": null,
   "metadata": {},
   "outputs": [],
   "source": [
    "%%time\n",
    "import torch\n",
    "with torch.no_grad():\n",
    "    ScorePrediction.ml_model(*out)"
   ]
  },
  {
   "cell_type": "markdown",
   "metadata": {},
   "source": [
    "## Answer Extraction"
   ]
  },
  {
   "cell_type": "markdown",
   "metadata": {},
   "source": [
    "### Train Answer Extraction Model"
   ]
  },
  {
   "cell_type": "code",
   "execution_count": null,
   "metadata": {},
   "outputs": [],
   "source": [
    "%%time\n",
    "import sys\n",
    "sys.path.append('/home/srikamma/efs/workspace/CS-QASystem-Torch/src/CS-QASystem-Torch/src/cs_qa_system_torch/')\n",
    "\n",
    "%run -i /home/srikamma/efs/workspace/CS-QASystem-Torch/src/CS-QASystem-Torch/src/cs_qa_system_torch/answer_extraction/run_squad_final.py \\\n",
    "    --model_type bert \\\n",
    "    --model_name_or_path bert-base-uncased \\\n",
    "    --do_lower_case \\\n",
    "    --do_train \\\n",
    "    --do_eval \\\n",
    "    --data_dir '/data/QAData/AnswerExtractionData/amazon' \\\n",
    "    --train_file 'train_answerextraction_100.tsv' \\\n",
    "    --predict_file 'test_answerextraction_100.tsv' \\\n",
    "    --squad_data_dir '/data/QAData/AnswerExtractionData/squad' \\\n",
    "    --squad_train_file 'train-v2.0.json' \\\n",
    "    --squad_predict_file 'dev-v2.0.json' \\\n",
    "    --per_gpu_train_batch_size 12 \\\n",
    "    --learning_rate 3e-5 \\\n",
    "    --num_train_epochs 2.0 \\\n",
    "    --max_seq_length 384 \\\n",
    "    --doc_stride 128 \\\n",
    "    --version_2_with_negative \\\n",
    "    --add_neg \\\n",
    "    --output_dir '/home/srikamma/efs/work/QASystem/QAModel/output_answer_extraction/bert_output_final'"
   ]
  },
  {
   "cell_type": "markdown",
   "metadata": {},
   "source": [
    "### Fine Tuning Answer Extraction with New Amazon Data"
   ]
  },
  {
   "cell_type": "code",
   "execution_count": null,
   "metadata": {},
   "outputs": [],
   "source": [
    "import pandas as pd\n",
    "realtime_new_annotations = [\n",
    "    {\n",
    "    \"qid\":20000,\n",
    "    \"query\":\"cancel my music subscription\",\n",
    "    \"answer\":\"If you subscribed to Amazon Music Unlimited through iTunes visit the [Apple website](https://support.apple.com/HT202039) to cancel your subscription. If you subscribed through a third-party, such as a mobile service provider, contact them for further assistance. Go to [Your Amazon Music Settings](https://www.amazon.com/music/settings). Go to the Amazon Music Unlimited section. Select the Cancel option in your Subscription Renewal details. Confirm the cancellation\",\n",
    "    \"passage\":\"Cancel Amazon Music Unlimited Subscription: Cancel your subscription online. If you subscribed to Amazon Music Unlimited through iTunes visit the [Apple website](https://support.apple.com/HT202039) to cancel your subscription. If you subscribed through a third-party, such as a mobile service provider, contact them for further assistance. Go to [Your Amazon Music Settings](https://www.amazon.com/music/settings). Go to the Amazon Music Unlimited section. Select the Cancel option in your Subscription Renewal details. Confirm the cancellation. Note: You can continue to access Amazon Music Unlimited until the end date. After this date, any Amazon Music Unlimited titles you've added to Library will be grayed out, with playback options removed.Cancelling an Amazon Music Unlimited subscription also ends membership to Amazon Music HD. Video: Cancel Amazon Music Unlimited. For more help, try our [Amazon Music forum](https://www.amazon.com/gp/redirect.html/ref=hp_cr_music_forum?location=https://www.amazonforum.com/s/amazon-music&token=728A8569DD99E77B59F36EE4739090DC4E1BA6F8&source=standards). [](https://www.amazon.com/gp/redirect.html/ref=hp_cr_music_forum?location=https://www.amazonforum.com/s/amazon-music&token=728A8569DD99E77B59F36EE4739090DC4E1BA6F8&source=standards)\"\n",
    "    }\n",
    "]\n",
    "\n",
    "processed_new_annotations = '/data/QAData/AnswerExtractionData/amazon/finetune_answer_train.tsv'\n",
    "#amazon_old_annotations = '/data/QAData/AnswerExtractionData/amazon/train_answerextraction_100.tsv'\n",
    "\n",
    "df_realtime_new_annotations = pd.DataFrame(realtime_new_annotations)\n",
    "df_processed_new_annotations = pd.read_csv(processed_new_annotations,sep='\\t')\n",
    "#df_amazon_old_annotations = pd.read_csv(amazon_old_annotations,sep='\\t')\n",
    "\n",
    "#df_final = pd.concat([df_realtime_new_annotations, df_processed_new_annotations, df_amazon_old_annotations])\n",
    "df_final = pd.concat([df_realtime_new_annotations, df_processed_new_annotations])\n",
    "df_final = df_final.sample(frac=1).reset_index(drop=True)\n",
    "df_final.to_csv('/data/QAData/AnswerExtractionData/amazon/train_finetune_final.tsv',sep='\\t',index=None)"
   ]
  },
  {
   "cell_type": "code",
   "execution_count": null,
   "metadata": {},
   "outputs": [],
   "source": [
    "%%time\n",
    "import sys\n",
    "sys.path.append('/home/srikamma/efs/workspace/CS-QASystem-Torch/src/CS-QASystem-Torch/src/cs_qa_system_torch/')\n",
    "\n",
    "%run -i /home/srikamma/efs/workspace/CS-QASystem-Torch/src/CS-QASystem-Torch/src/cs_qa_system_torch/answer_extraction/run_squad_final.py \\\n",
    "    --model_type bert \\\n",
    "    --model_name_or_path '/home/srikamma/efs/work/QASystem/QAModel/output_answer_extraction/bert_output_final' \\\n",
    "    --do_lower_case \\\n",
    "    --do_train \\\n",
    "    --do_eval \\\n",
    "    --data_dir '/data/QAData/AnswerExtractionData/amazon' \\\n",
    "    --train_file 'train_finetune_final.tsv' \\\n",
    "    --predict_file 'test_answerextraction_100.tsv' \\\n",
    "    --per_gpu_train_batch_size 12 \\\n",
    "    --learning_rate 3e-5 \\\n",
    "    --num_train_epochs 2.0 \\\n",
    "    --max_seq_length 384 \\\n",
    "    --doc_stride 128 \\\n",
    "    --version_2_with_negative \\\n",
    "    --add_neg \\\n",
    "    --overwrite_output_dir \\\n",
    "    --output_dir '/home/srikamma/efs/work/QASystem/QAModel/output_answer_extraction/bert_output_final_finetune'"
   ]
  },
  {
   "cell_type": "markdown",
   "metadata": {},
   "source": [
    "### Inference of Answer Extraction Model"
   ]
  },
  {
   "cell_type": "code",
   "execution_count": null,
   "metadata": {},
   "outputs": [],
   "source": [
    "%%time\n",
    "import sys\n",
    "sys.path.append('/home/srikamma/efs/workspace/CS-QASystem-Torch/src/CS-QASystem-Torch/src/cs_qa_system_torch/')\n",
    "\n",
    "%run -i /home/srikamma/efs/workspace/CS-QASystem-Torch/src/CS-QASystem-Torch/src/cs_qa_system_torch/answer_extraction/run_squad_final.py \\\n",
    "  --model_type bert \\\n",
    "  --model_name_or_path '/home/srikamma/efs/work/QASystem/QAModel/output_answer_extraction/bert_output_final_finetune' \\\n",
    "  --do_lower_case \\\n",
    "  --do_eval \\\n",
    "  --data_dir '/data/QAData/AnswerExtractionData/amazon' \\\n",
    "  --predict_file 'finetune_answer_test.tsv' \\\n",
    "  --per_gpu_eval_batch_size 128 \\\n",
    "  --learning_rate 3e-5 \\\n",
    "  --num_train_epochs 2.0 \\\n",
    "  --max_seq_length 384 \\\n",
    "  --doc_stride 128 \\\n",
    "  --version_2_with_negative \\\n",
    "  --add_neg \\\n",
    "  --overwrite_cache \\\n",
    "  --output_dir '/home/srikamma/efs/work/QASystem/QAModel/output_answer_extraction/bert_inference'\n"
   ]
  },
  {
   "cell_type": "markdown",
   "metadata": {},
   "source": [
    "### Testing of Answer Extraction Model"
   ]
  },
  {
   "cell_type": "code",
   "execution_count": null,
   "metadata": {},
   "outputs": [],
   "source": [
    "%%time\n",
    "import sys\n",
    "sys.path.append('/home/srikamma/efs/workspace/CS-QASystem-Torch/src/CS-QASystem-Torch/src/cs_qa_system_torch/')\n",
    "\n",
    "%run -i /home/srikamma/efs/workspace/CS-QASystem-Torch/src/CS-QASystem-Torch/src/cs_qa_system_torch/answer_extraction/run_squad_final.py \\\n",
    "  --model_type bert \\\n",
    "  --model_name_or_path '/home/srikamma/efs/work/QASystem/QAModel/output_answer_extraction/bert_output_final' \\\n",
    "  --do_lower_case \\\n",
    "  --do_test \\\n",
    "  --data_dir '/data/QAData/AnswerExtractionData/amazon' \\\n",
    "  --test_file 'test_answerextraction_100.tsv' \\\n",
    "  --per_gpu_test_batch_size 128 \\\n",
    "  --learning_rate 3e-5 \\\n",
    "  --num_train_epochs 2.0 \\\n",
    "  --max_seq_length 384 \\\n",
    "  --doc_stride 128 \\\n",
    "  --version_2_with_negative \\\n",
    "  --add_neg \\\n",
    "  --overwrite_cache \\\n",
    "  --output_dir '/home/srikamma/efs/work/QASystem/QAModel/output_answer_extraction/bert_test'"
   ]
  },
  {
   "cell_type": "markdown",
   "metadata": {},
   "source": [
    "### Real Time Inference Answer Extraction"
   ]
  },
  {
   "cell_type": "code",
   "execution_count": null,
   "metadata": {},
   "outputs": [],
   "source": [
    "import sys\n",
    "sys.path.append('/home/srikamma/efs/workspace/CS-QASystem-Torch/src/CS-QASystem-Torch/src/cs_qa_system_torch/')\n",
    "from transformers import AutoModelForQuestionAnswering, AutoTokenizer\n",
    "\n",
    "output_dir = '/home/srikamma/efs/work/QASystem/QAModel/output_answer_extraction/bert_output_final_finetune'\n",
    "do_lower_case = True\n",
    "model = AutoModelForQuestionAnswering.from_pretrained(output_dir)  # , force_download=True)\n",
    "tokenizer = AutoTokenizer.from_pretrained(output_dir, do_lower_case=do_lower_case)\n",
    "device = \"cpu\"\n",
    "model.to(device)\n"
   ]
  },
  {
   "cell_type": "code",
   "execution_count": null,
   "metadata": {},
   "outputs": [],
   "source": [
    "import torch\n",
    "from transformers.data.processors.squad import SquadExample, squad_convert_example_to_features, squad_convert_example_to_features_init\n",
    "from transformers.data.metrics.squad_metrics import compute_predictions_logits\n",
    "from torch.utils.data import TensorDataset, DataLoader, RandomSampler, SequentialSampler\n",
    "from transformers.data.processors.squad import SquadResult\n",
    "\n",
    "def to_list(tensor):\n",
    "    return tensor.detach().cpu().tolist()\n",
    "\n",
    "#question = 'who is rajesh friend'\n",
    "#context = 'Manu likes swimming. His age is 23 years. Manu has friend Rajesh, whose age is 52 years.'\n",
    "\n",
    "question= \"unknown charge on my account\"\n",
    "context = \"Unknown Charges: There are several reasons why you might not recognize a charge. If you want to review your complete order history, go to [Your Orders](www.amazon.com/your-orders). The following are common scenarios for unknown charges: An Amazon Prime yearly subscription was renewed. For more information, go to [Manage Your Prime Membership](www.amazon.com/gp/subs/primeclub/account/homepage.html?ie=UTF8&ref_=nav_youraccount_prime). A bank has placed an authorization hold for recently canceled or changed orders. When you place an order, Amazon contacts the issuing bank to confirm the validity of the payment method. Your bank reserves the funds until the transaction processes or the authorization expires, but this isn't an actual charge. If you cancelled your order, the authorization will be removed from your account according to the policies of your bank. To remove an authorization, contact your bank to clarify how long they hold authorizations for online orders. An order was placed by a family member, friend, or co-worker with access to your card number. Additional cards are associated with the credit or debit account. A back-ordered or pre-ordered item shipped. A gift order shipped. An order placed outside Amazon.com using Amazon Pay. Amazon Pay orders begin with ‘P01’ and are followed by 14 digits. Check your Amazon Pay Account for your order history. For further assistance with any Amazon Pay transactions, see the Amazon Pay Help pages. An order was split into multiple shipments or sent to multiple shipping addresses. Note: This appears on your statement as separate charges. If the charge isn't explained by any of these situations, contact us by phone and have the following information available: Date of the charge. Amount of the charge. Your name, email address, and phone number. Charge ID, a unique 9-digit alphanumeric code that Customer Service can use to locate your charge, e.g., Amazon.com*A123B4CD5, Prime Now*B123B4CD5, AMZN Mktp US*C123B4CD5. Note: This ID only appears when the card is charged. It is not present on Pending charges (Authorizations). Use your order history to review your orders and shipments to compare the charges with the charges on your bank statement..Cancel Subscribe with Amazon Subscriptions: You can cancel your Subscribe with Amazon subscriptions at any time from Your Memberships and Subscriptions in Your Account. To cancel a subscription you purchased using Subscribe with Amazon: Go to [Your Memberships and Subscriptions](https://www.amazon.com/yourmembershipsandsubscriptions). Select Manage Subscription next to the subscription you'd like to cancel. Click the link under Advance Controls to be directed to the main subscription page. From this page, you can end your subscription. About Cancellations and Refunds for Digital Subscriptions. Once you cancel, the renewal date in your subscription details becomes the end date. You'll no longer be charged for the subscription, but can continue to access it until this date. You can cancel a subscription at any time, with no early termination fees. For subscriptions with a renewal period longer than one month, new subscribers are eligible for a full refund if they cancel within 7 days of purchase. Access to the subscription is removed as soon as a refund is issued. Outside of the refund window, or for subscriptions with a billing period one month or less in length, cancellation turns off auto-renew for the subscription so you won't be billed again. Once you cancel you will still have access to the subscription through the end of your current paid billing period. For subscriptions with a billing period of 6 months or longer, or when otherwise required by law, we'll notify you when the subscription is set to renew. You can then change your billing information or cancel your subscription before you're charged again. Note: To learn more about auto-renewals, go to [About Auto-Renewal for Subscribe with Amazon Subscriptions (Digital Subscriptions Only)](https://www.amazon.com/gp/help/customer/display.html/?nodeId=202013370). About Cancellations for Physical Subscriptions. Once you cancel, no further orders will be placed. You will not be charged until the order ships. Cancelling a subscription does not cancel any pending unshipped order. To cancel pending unshipped orders, you can go to Your Orders and request cancellation\"\n",
    "max_seq_length = 384\n",
    "doc_stride = 128\n",
    "max_query_length = 64\n",
    "model_type = 'bert'\n",
    "n_best_size = 1\n",
    "max_answer_length = 150\n",
    "do_lower_case = True\n",
    "example = SquadExample(\n",
    "            qas_id=0,\n",
    "            question_text=question,\n",
    "            context_text=context,\n",
    "            answer_text=None,\n",
    "            start_position_character=None,\n",
    "            title=None,\n",
    "            answers=None,\n",
    "        )\n",
    "squad_convert_example_to_features_init(tokenizer)\n",
    "features = squad_convert_example_to_features(example, max_seq_length, doc_stride, max_query_length, False)\n",
    "\n",
    "new_features = []\n",
    "unique_id = 1000000000\n",
    "for feature in features:\n",
    "    feature.example_index = 0\n",
    "    feature.unique_id = unique_id\n",
    "    new_features.append(feature)\n",
    "    unique_id += 1\n",
    "features = new_features\n",
    "del new_features    \n",
    "\n",
    "all_input_ids = torch.tensor([f.input_ids for f in features], dtype=torch.long)\n",
    "all_attention_masks = torch.tensor([f.attention_mask for f in features], dtype=torch.long)\n",
    "all_token_type_ids = torch.tensor([f.token_type_ids for f in features], dtype=torch.long)\n",
    "all_cls_index = torch.tensor([f.cls_index for f in features], dtype=torch.long)\n",
    "all_p_mask = torch.tensor([f.p_mask for f in features], dtype=torch.float)\n",
    "all_is_impossible = torch.tensor([f.is_impossible for f in features], dtype=torch.float)\n",
    "all_feature_index = torch.arange(all_input_ids.size(0), dtype=torch.long)\n",
    "dataset = TensorDataset( all_input_ids, all_attention_masks, all_token_type_ids, all_feature_index, all_cls_index, all_p_mask)\n",
    "sampler = SequentialSampler(dataset)\n",
    "dataloader = DataLoader(dataset, sampler=sampler, batch_size=len(dataset))\n",
    "\n",
    "all_results = []\n",
    "for batch in dataloader:\n",
    "    model.eval()\n",
    "    batch = tuple(t.to(device) for t in batch)\n",
    "\n",
    "    with torch.no_grad():\n",
    "        inputs = {\n",
    "            \"input_ids\": batch[0],\n",
    "            \"attention_mask\": batch[1],\n",
    "             \"token_type_ids\": batch[2],\n",
    "        }\n",
    "\n",
    "        if model_type in [\"xlm\", \"roberta\", \"distilbert\", \"camembert\", \"bart\"]:\n",
    "            del inputs[\"token_type_ids\"]\n",
    "\n",
    "        feature_indices = batch[3]\n",
    "\n",
    "        # XLNet and XLM use more arguments for their predictions\n",
    "        if model_type in [\"xlnet\", \"xlm\"]:\n",
    "            inputs.update({\"cls_index\": batch[4], \"p_mask\": batch[5]})\n",
    "            # for lang_id-sensitive xlm models\n",
    "            if hasattr(model, \"config\") and hasattr(model.config, \"lang2id\"):\n",
    "                inputs.update(\n",
    "                    {\"langs\": (torch.ones(batch[0].shape, dtype=torch.int64) * args.lang_id).to(args.device)}\n",
    "                )\n",
    "        outputs = model(**inputs)\n",
    "\n",
    "\n",
    "    for i, feature_index in enumerate(feature_indices):\n",
    "        eval_feature = features[feature_index.item()]\n",
    "        unique_id = int(eval_feature.unique_id)\n",
    "\n",
    "        output = [to_list(output[i]) for output in outputs]\n",
    "\n",
    "        # Some models (XLNet, XLM) use 5 arguments for their predictions, while the other \"simpler\"\n",
    "        # models only use two.\n",
    "        if len(output) >= 5:\n",
    "            start_logits = output[0]\n",
    "            start_top_index = output[1]\n",
    "            end_logits = output[2]\n",
    "            end_top_index = output[3]\n",
    "            cls_logits = output[4]\n",
    "\n",
    "            result = SquadResult(\n",
    "                    unique_id,\n",
    "                    start_logits,\n",
    "                    end_logits,\n",
    "                    start_top_index=start_top_index,\n",
    "                    end_top_index=end_top_index,\n",
    "                    cls_logits=cls_logits,\n",
    "                )\n",
    "\n",
    "        else:\n",
    "            start_logits, end_logits = output\n",
    "            result = SquadResult(unique_id, start_logits, end_logits)\n",
    "        all_results.append(result)\n",
    "\n",
    "predictions_realtime = compute_predictions_logits(\n",
    "        [example],\n",
    "        features,\n",
    "        all_results,\n",
    "        n_best_size,\n",
    "        max_answer_length,\n",
    "        do_lower_case,\n",
    "        None,\n",
    "        None,\n",
    "        None,\n",
    "        True,\n",
    "        True,\n",
    "        0.0,\n",
    "        tokenizer,\n",
    "        )\n",
    "print(context,'\\n\\n')\n",
    "print(predictions_realtime[0])"
   ]
  },
  {
   "cell_type": "markdown",
   "metadata": {},
   "source": [
    "## (Information Retrieval + Answer Extraction)"
   ]
  },
  {
   "cell_type": "markdown",
   "metadata": {},
   "source": [
    "### Bulk Inference (IR + AE)"
   ]
  },
  {
   "cell_type": "code",
   "execution_count": null,
   "metadata": {},
   "outputs": [],
   "source": [
    "import sys\n",
    "sys.path.append('/home/srikamma/efs/workspace/CS-QASystem-Torch/src/CS-QASystem-Torch/src/cs_qa_system_torch/')"
   ]
  },
  {
   "cell_type": "code",
   "execution_count": null,
   "metadata": {},
   "outputs": [],
   "source": [
    "%%time\n",
    "%run -i /home/srikamma/efs/workspace/CS-QASystem-Torch/src/CS-QASystem-Torch/src/cs_qa_system_torch/ir_and_ae/ir_ae_inference.py \\\n",
    "        --passage_collection_path '/data/QAData/InformationRetrievalData/amazon/goldlabel_collection.json' \\\n",
    "        --qrels_path '/data/QAData/InformationRetrievalData/amazon/goldlabel_qrels.json' \\\n",
    "        --ir_model_name 'BM25Okapi' \\\n",
    "        --word_tokenizer_name 'simple_word_tokenizer' \\\n",
    "        --index_top_n 50 \\\n",
    "        --ir_model_weight 0.46 \\\n",
    "        --model_name_or_path '/home/srikamma/efs/work/QASystem/QAModel/output_torch/cross/ir_artifacts/bertbase/' \\\n",
    "        --architecture 'cross' \\\n",
    "        --do_lower_case \\\n",
    "        --ir_top_n 2 \\\n",
    "        --ae_params_dir '/home/srikamma/efs/work/QASystem/QAModel/output_answer_extraction/bert_output' \\\n",
    "        --version_2_with_negative \\\n",
    "        --max_seq_length 384 \\\n",
    "        --max_answer_length 100 \\\n",
    "        --doc_stride 128 \\\n",
    "        --test_batch_size 512 \\\n",
    "        --prediction_file 'prediction.csv' \\\n",
    "        --gpu 2,3 \\\n",
    "        --output_dir '/home/srikamma/efs/work/QASystem/QAModel/output_torch/cross/ir_artifacts/bertbase_inference_ir_ae/'\n",
    "\n",
    "\n",
    "#         --passage_collection_path '/data/QAData/InformationRetrievalData/amazon/collection.json' \\\n",
    "#         --qrels_path '/data/QAData/InformationRetrievalData/amazon/qrels.json' \\\n",
    "    "
   ]
  },
  {
   "cell_type": "code",
   "execution_count": null,
   "metadata": {},
   "outputs": [],
   "source": [
    "results"
   ]
  },
  {
   "cell_type": "markdown",
   "metadata": {},
   "source": [
    "### Real Time Inference (IR+AE)"
   ]
  },
  {
   "cell_type": "code",
   "execution_count": 1,
   "metadata": {},
   "outputs": [
    {
     "name": "stderr",
     "output_type": "stream",
     "text": [
      "[nltk_data] Downloading package stopwords to\n",
      "[nltk_data]     /home/srikamma/nltk_data...\n",
      "[nltk_data]   Package stopwords is already up-to-date!\n"
     ]
    }
   ],
   "source": [
    "import sys\n",
    "sys.path.append('/home/srikamma/efs/workspace/CS-QASystem-Torch/src/CS-QASystem-Torch/src/cs_qa_system_torch/')\n",
    "from ir_and_ae.ir_ae_inference import ScorePrediction\n",
    "import pandas as pd\n",
    "pd.set_option('display.max_colwidth', None)"
   ]
  },
  {
   "cell_type": "code",
   "execution_count": 2,
   "metadata": {},
   "outputs": [
    {
     "name": "stdout",
     "output_type": "stream",
     "text": [
      "INSIDE THE INIT!!\n",
      "[{'type': 'ANSWER', 'value': 'The following are common scenarios for unknown charges: An Amazon Prime yearly subscription was renewed', 'relativeUrl': '', 'desktopRelativeUrl': '', 'buttons': []}, {'type': 'ANSWER', 'value': 'For more information, go to <a>Manage Your Prime Membership</a>. A bank has placed an authorization hold for recently canceled or changed orders', 'relativeUrl': 'www.amazon.com/gp/subs/primeclub/account/homepage.html?ie=UTF8&ref_=nav_youraccount_prime', 'desktopRelativeUrl': 'www.amazon.com/gp/subs/primeclub/account/homepage.html?ie=UTF8&ref_=nav_youraccount_prime', 'buttons': []}, {'type': 'ANSWER', 'value': 'When you place an order, Amazon contacts the issuing bank to confirm the validity of the payment method', 'relativeUrl': '', 'desktopRelativeUrl': '', 'buttons': []}, {'type': 'ANSWER', 'value': \"Your bank reserves the funds until the transaction processes or the authorization expires, but this isn't an actual charge\", 'relativeUrl': '', 'desktopRelativeUrl': '', 'buttons': []}]\n",
      "CPU times: user 37.4 s, sys: 16.7 s, total: 54.1 s\n",
      "Wall time: 11.9 s\n"
     ]
    }
   ],
   "source": [
    "%%time\n",
    "query='unknown charge'\n",
    "out = ScorePrediction.get_answer(query)\n",
    "print(out)"
   ]
  }
 ],
 "metadata": {
  "kernelspec": {
   "display_name": "torch",
   "language": "python",
   "name": "torch"
  },
  "language_info": {
   "codemirror_mode": {
    "name": "ipython",
    "version": 3
   },
   "file_extension": ".py",
   "mimetype": "text/x-python",
   "name": "python",
   "nbconvert_exporter": "python",
   "pygments_lexer": "ipython3",
   "version": "3.7.7"
  },
  "toc-autonumbering": true,
  "toc-showcode": false,
  "toc-showmarkdowntxt": false,
  "toc-showtags": false
 },
 "nbformat": 4,
 "nbformat_minor": 4
}
