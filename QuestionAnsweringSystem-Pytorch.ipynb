{
 "cells": [
  {
   "cell_type": "markdown",
   "metadata": {},
   "source": [
    "# QA System"
   ]
  },
  {
   "cell_type": "markdown",
   "metadata": {},
   "source": [
    "## Question Similarity Model"
   ]
  },
  {
   "cell_type": "code",
   "execution_count": null,
   "metadata": {
    "slideshow": {
     "slide_type": "slide"
    }
   },
   "outputs": [],
   "source": [
    "import sys\n",
    "sys.path.append('/home/srikamma/efs/workspace/CS-QASystem-Torch/src/CS-QASystem-Torch/src/cs_qa_system_torch/')"
   ]
  },
  {
   "cell_type": "markdown",
   "metadata": {},
   "source": [
    "### S-Bert Train"
   ]
  },
  {
   "cell_type": "code",
   "execution_count": null,
   "metadata": {},
   "outputs": [],
   "source": [
    "#train model\n",
    "%%run -i /Users/yqinamz/Desktop/QA_BOT/CS-QASystem-Torch/src/CS-QASystem-Torch/src/cs_qa_system_torch/train_QSM_Sbert.py \\\n",
    "--pretrain_model_path '/home/yqinamz/output/quora_sts-bert-base-nli-mean-tokens-2020-08-17_20-53-14/' \\\n",
    "--model_name '/home/yqinamz/output/Sbert_test' \\\n",
    "--train_data_path '/home/yqinamz/QA_Bot/QA_EXP/EXP_1002/Mix_2USE_8R_1009/' \n",
    "\n",
    "\n"
   ]
  },
  {
   "cell_type": "markdown",
   "metadata": {},
   "source": [
    "### Inference on Question-Pairs"
   ]
  },
  {
   "cell_type": "code",
   "execution_count": null,
   "metadata": {},
   "outputs": [],
   "source": [
    "%%run -i /Users/yqinamz/Desktop/QA_BOT/CS-QASystem-Torch/src/CS-QASystem-Torch/src/cs_qa_system_torch/QSM_inference.py \\\n",
    "--saved_model_path '/home/yqinamz/output/quora_sts-bert-base-nli-mean-tokens-2020-08-17_20-53-14/' \\\n",
    "--test_data_path '/home/yqinamz/QA_Bot/QA_EXP/EXP_1002/Mix_2USE_8R_1009/test_sample.tsv'\n"
   ]
  },
  {
   "cell_type": "markdown",
   "metadata": {},
   "source": [
    "### Real-Time Prediction for QSM"
   ]
  },
  {
   "cell_type": "code",
   "execution_count": null,
   "metadata": {},
   "outputs": [],
   "source": []
  },
  {
   "cell_type": "markdown",
   "metadata": {},
   "source": [
    "## Information Retrieval"
   ]
  },
  {
   "cell_type": "markdown",
   "metadata": {},
   "source": [
    "### Training IR Model"
   ]
  },
  {
   "cell_type": "code",
   "execution_count": null,
   "metadata": {},
   "outputs": [],
   "source": [
    "import sys\n",
    "sys.path.append('/home/srikamma/efs/workspace/CS-QASystem-Torch/src/CS-QASystem-Torch/src/cs_qa_system_torch/')"
   ]
  },
  {
   "cell_type": "code",
   "execution_count": null,
   "metadata": {},
   "outputs": [],
   "source": [
    "## Here model_name_or_path could be any mapping that AutoModel supports if architecture is ['bi', 'cross'] \n",
    "## and model_name_or_path ould be any mapping that AutoModelForClassification if architecture is 'cross-default'\n",
    "## if you want to add new model you need add new instance of in ir_model to get the right output\n",
    "## NOTE: model_name_or_path COULD BE A LOCAL PATH OR CHECKPOINT DIRECTORY WHERE THE MODEL WILL START FINETINING FROM THAT POINT\n",
    "## NOTE: model_type can be anythinf for now. It is not being used.\n",
    "\n",
    "%%time\n",
    "%run -i /home/srikamma/efs/workspace/CS-QASystem-Torch/src/CS-QASystem-Torch/src/cs_qa_system_torch/information_retrieval/ir_train.py \\\n",
    "        --train_data_path '/data/QAData/InformationRetrievalData/amazon/train.tsv' \\\n",
    "        --test_data_path '/data/QAData/InformationRetrievalData/amazon/test.tsv' \\\n",
    "        --model_name_or_path 'bert-base-uncased' \\\n",
    "        --architecture 'cross' \\\n",
    "        --do_lower_case \\\n",
    "        --train_batch_size 64 \\\n",
    "        --test_batch_size 128 \\\n",
    "        --num_train_epochs 2 \\\n",
    "        --gpu 2,3,4,5 \\\n",
    "        --save_steps 1000 \\\n",
    "        --print_freq 500 \\\n",
    "        --output_dir '/home/srikamma/efs/work/QASystem/QAModel/output_torch/cross/ir_artifacts/bertbase/'\n",
    "    "
   ]
  },
  {
   "cell_type": "markdown",
   "metadata": {},
   "source": [
    "### FineTuning IR Model"
   ]
  },
  {
   "cell_type": "code",
   "execution_count": null,
   "metadata": {},
   "outputs": [],
   "source": [
    "import sys\n",
    "sys.path.append('/home/srikamma/efs/workspace/CS-QASystem-Torch/src/CS-QASystem-Torch/src/cs_qa_system_torch/')"
   ]
  },
  {
   "cell_type": "code",
   "execution_count": null,
   "metadata": {},
   "outputs": [],
   "source": [
    "%%time\n",
    "%run -i /home/srikamma/efs/workspace/CS-QASystem-Torch/src/CS-QASystem-Torch/src/cs_qa_system_torch/information_retrieval/ir_train.py \\\n",
    "        --train_data_path '/data/QAData/InformationRetrievalData/amazon/finetune_rank_train.tsv' \\\n",
    "        --test_data_path '/data/QAData/InformationRetrievalData/amazon/finetune_rank_test.tsv' \\\n",
    "        --model_name_or_path '/home/srikamma/efs/work/QASystem/QAModel/output_torch/cross/ir_artifacts/bertbase/' \\\n",
    "        --architecture 'cross' \\\n",
    "        --do_lower_case \\\n",
    "        --train_batch_size 64 \\\n",
    "        --test_batch_size 128 \\\n",
    "        --num_train_epochs 2 \\\n",
    "        --gpu 2,3,4,5 \\\n",
    "        --save_steps 1000 \\\n",
    "        --print_freq 500 \\\n",
    "        --output_dir '/home/srikamma/efs/work/QASystem/QAModel/output_torch/cross/ir_artifacts/bertbase_finetuned/'"
   ]
  },
  {
   "cell_type": "markdown",
   "metadata": {},
   "source": [
    "### Bulk Inference IR Model"
   ]
  },
  {
   "cell_type": "code",
   "execution_count": null,
   "metadata": {},
   "outputs": [],
   "source": [
    "import sys\n",
    "sys.path.append('/home/srikamma/efs/workspace/CS-QASystem-Torch/src/CS-QASystem-Torch/src/cs_qa_system_torch/')"
   ]
  },
  {
   "cell_type": "code",
   "execution_count": null,
   "metadata": {},
   "outputs": [],
   "source": [
    "%%time\n",
    "%run -i /home/srikamma/efs/workspace/CS-QASystem-Torch/src/CS-QASystem-Torch/src/cs_qa_system_torch/information_retrieval/ir_inference_mlmodel.py \\\n",
    "    --test_data_path '/data/QAData/InformationRetrievalData/amazon/finetune_rank_test.tsv' \\\n",
    "    --test_batch_size 128 \\\n",
    "    --model_name_or_path '/home/srikamma/efs/work/QASystem/QAModel/output_torch/cross/ir_artifacts/bertbase_finetuned/' \\\n",
    "    --architecture 'cross' \\\n",
    "    --do_lower_case \\\n",
    "    --prediction_file 'prediction.csv' \\\n",
    "    --gpu 2,3 \\\n",
    "    --output_dir '/home/srikamma/efs/work/QASystem/QAModel/output_torch/cross/ir_artifacts/bertbase_inference_finetuned/'"
   ]
  },
  {
   "cell_type": "markdown",
   "metadata": {},
   "source": [
    "#### Plotting"
   ]
  },
  {
   "cell_type": "code",
   "execution_count": 4,
   "metadata": {},
   "outputs": [
    {
     "data": {
      "image/png": "[encoded data removed]",
      "text/plain": [
       "<Figure size 432x288 with 2 Axes>"
      ]
     },
     "metadata": {
      "needs_background": "light"
     },
     "output_type": "display_data"
    }
   ],
   "source": [
    "import pandas as pd\n",
    "import numpy as np\n",
    "from matplotlib import pyplot\n",
    "from sklearn.metrics import precision_recall_curve\n",
    "bertbase_prediction_file = '/home/srikamma/efs/work/QASystem/QAModel/output_torch/cross/ir_artifacts/bertbase_inference/prediction.csv'\n",
    "bertbase_finetuned_prediction_file = '/home/srikamma/efs/work/QASystem/QAModel/output_torch/cross/ir_artifacts/bertbase_inference_finetuned/prediction.csv'\n",
    "pred = pd.read_csv(bertbase_prediction_file,sep='\\t')\n",
    "pred_finetuned = pd.read_csv(bertbase_finetuned_prediction_file,sep='\\t')\n",
    "precision, recall, threshold = precision_recall_curve(pred.actuals.to_list(),pred.predictions.to_list())\n",
    "precision_finetuned, recall_finetuned, threshold_finetuned = precision_recall_curve(pred_finetuned.actuals.to_list(),pred_finetuned.predictions.to_list())\n",
    "\n",
    "\n",
    "pyplot.subplot(1,2,1)\n",
    "pyplot.plot(recall,precision,marker='.',label='pr-recall curve')\n",
    "pyplot.plot(recall_finetuned,precision_finetuned,marker='o',label='pr-recall-finetuned curve')\n",
    "# axis labels\n",
    "pyplot.xlabel('Recall')\n",
    "pyplot.ylabel('Precision')\n",
    "#show legend\n",
    "pyplot.legend()\n",
    "\n",
    "pyplot.subplot(1,2,2)\n",
    "pyplot.plot(threshold_finetuned,precision_finetuned[:-1],marker='.',label='precision')\n",
    "pyplot.plot(threshold_finetuned,recall_finetuned[:-1],marker='o',label='recall')\n",
    "pyplot.xlabel('threshold')\n",
    "pyplot.ylabel('scores')\n",
    "# show the legend\n",
    "pyplot.legend()\n",
    "# show the plot\n",
    "pyplot.tight_layout()\n",
    "pyplot.show()"
   ]
  },
  {
   "cell_type": "code",
   "execution_count": 5,
   "metadata": {},
   "outputs": [
    {
     "name": "stdout",
     "output_type": "stream",
     "text": [
      "For precision of 0.85, recall = 0.8144654088050315\n",
      "For precision of 0.85, threshold values = 0.4004531502723694\n",
      "\n",
      "\n",
      "For a treshold of 0.4\n"
     ]
    },
    {
     "data": {
      "text/plain": [
       "{'accuracy': 0.9337957124842371,\n",
       " 'precision': 0.8491803278688524,\n",
       " 'recall': 0.8144654088050315,\n",
       " 'f-score': 0.8314606741573034}"
      ]
     },
     "execution_count": 5,
     "metadata": {},
     "output_type": "execute_result"
    }
   ],
   "source": [
    "import sys\n",
    "sys.path.append('/home/srikamma/efs/workspace/CS-QASystem-Torch/src/CS-QASystem-Torch/src/cs_qa_system_torch/')\n",
    "from information_retrieval.ir_metrics import compute_acc_pr_rec_fs_metric\n",
    "pr = 0.85\n",
    "print('For precision of {}, recall = {}'.format(pr,recall_finetuned[np.argmin(precision_finetuned <= 0.85)]))\n",
    "print('For precision of {}, threshold values = {}'.format(pr,threshold_finetuned[np.argmin(precision_finetuned <= pr)]))\n",
    "\n",
    "trhold = 0.40\n",
    "print('\\n\\nFor a treshold of {}'.format(trhold))\n",
    "compute_acc_pr_rec_fs_metric(pred_finetuned.predictions.to_list(),pred_finetuned.actuals.to_list(),trhold)"
   ]
  },
  {
   "cell_type": "markdown",
   "metadata": {},
   "source": [
    "### Real Time Inference IR Model"
   ]
  },
  {
   "cell_type": "code",
   "execution_count": 1,
   "metadata": {},
   "outputs": [],
   "source": [
    "import sys\n",
    "sys.path.append('/home/srikamma/efs/workspace/CS-QASystem-Torch/src/CS-QASystem-Torch/src/cs_qa_system_torch/')\n",
    "from information_retrieval.ir_inference_mlmodel import ScorePrediction\n",
    "import pandas as pd\n",
    "pd.set_option('display.max_colwidth', None)"
   ]
  },
  {
   "cell_type": "code",
   "execution_count": 2,
   "metadata": {},
   "outputs": [
    {
     "name": "stdout",
     "output_type": "stream",
     "text": [
      "0.02034132555127144\n",
      "CPU times: user 13 s, sys: 20 s, total: 33 s\n",
      "Wall time: 6.86 s\n"
     ]
    }
   ],
   "source": [
    "%%time\n",
    "query = 'how to cancel my prime membership'\n",
    "passage = 'About Prime Gift Membership Cancellations: If you need to cancel a Prime gift membership that hasn\\'t already been sent or has been sent but not redeemed, please contact us. Once a Prime gift membership has been redeemed by the recipient, it can\\'t be canceled. The scheduled delivery date also can\\'t be changed once your purchase has completed. If you need to update a delivery date, contact us so we can cancel the existing gift. You can then place a new order.'\n",
    "out = ScorePrediction.get_document_score(query,passage)\n",
    "print(out)"
   ]
  },
  {
   "cell_type": "markdown",
   "metadata": {},
   "source": [
    "### Bulk Inference (BM25 + IR) Model "
   ]
  },
  {
   "cell_type": "code",
   "execution_count": 3,
   "metadata": {},
   "outputs": [],
   "source": [
    "import sys\n",
    "sys.path.append('/home/srikamma/efs/workspace/CS-QASystem-Torch/src/CS-QASystem-Torch/src/cs_qa_system_torch/')"
   ]
  },
  {
   "cell_type": "code",
   "execution_count": null,
   "metadata": {},
   "outputs": [],
   "source": [
    "%%time\n",
    "%run -i /home/srikamma/efs/workspace/CS-QASystem-Torch/src/CS-QASystem-Torch/src/cs_qa_system_torch/information_retrieval/ir_inference_combined.py \\\n",
    "    --passage_collection_path '/data/QAData/InformationRetrievalData/amazon/collection.json' \\\n",
    "    --qrels_path '/data/QAData/InformationRetrievalData/amazon/qrels.json' \\\n",
    "    --ir_model_name 'BM25Okapi' \\\n",
    "    --word_tokenizer_name 'simple_word_tokenizer' \\\n",
    "    --index_top_n 50 \\\n",
    "    --model_name_or_path 'output_torch/cross/ir_artifacts/bertbase_finetuned/' \\\n",
    "    --architecture 'cross' \\\n",
    "    --do_lower_case \\\n",
    "    --test_batch_size 512 \\\n",
    "    --gpu 2,3 \\\n",
    "    --prediction_file 'predictions.csv' \\\n",
    "    --output_dir '/home/srikamma/efs/work/QASystem/QAModel/output_torch/cross/ir_artifacts/bertbase_inference/'"
   ]
  },
  {
   "cell_type": "code",
   "execution_count": 6,
   "metadata": {},
   "outputs": [
    {
     "data": {
      "text/html": [
       "<div>\n",
       "<style scoped>\n",
       "    .dataframe tbody tr th:only-of-type {\n",
       "        vertical-align: middle;\n",
       "    }\n",
       "\n",
       "    .dataframe tbody tr th {\n",
       "        vertical-align: top;\n",
       "    }\n",
       "\n",
       "    .dataframe thead th {\n",
       "        text-align: right;\n",
       "    }\n",
       "</style>\n",
       "<table border=\"1\" class=\"dataframe\">\n",
       "  <thead>\n",
       "    <tr style=\"text-align: right;\">\n",
       "      <th></th>\n",
       "      <th>qid</th>\n",
       "      <th>query</th>\n",
       "      <th>pid</th>\n",
       "      <th>passage</th>\n",
       "      <th>label</th>\n",
       "    </tr>\n",
       "  </thead>\n",
       "  <tbody>\n",
       "    <tr>\n",
       "      <th>0</th>\n",
       "      <td>5059</td>\n",
       "      <td>A charge dispute</td>\n",
       "      <td>184</td>\n",
       "      <td>unknown charges there are several reasons why you might not recognize a charge if you want to review your complete order history go to your orders the following are common scenarios for unknown charges an amazon prime yearly subscription was renewed for more information go to manage your prime membership a bank has placed an authorization hold for recently canceled or changed orders when you place an order amazon contacts the issuing bank to confirm the validity of the payment method your bank reserves the funds until the transaction processes or the authorization expires but this is not an actual charge if you cancelled your order the authorization will be removed from your account according to the policies of your bank to remove an authorization contact your bank to clarify how long they hold authorizations for online orders an order was placed by a family member friend or coworker with access to your card number additional cards are associated with the credit or debit account a backordered or preordered item shipped a gift order shipped an order placed outside amazon using amazon pay amazon pay orders begin with p and are followed by digits check your amazon pay account for your order history for further assistance with any amazon pay transactions see the amazon pay help pages an order was split into multiple shipments or sent to multiple shipping addresses note this appears on your statement as separate charges if the charge is not explained by any of these situations contact us by phone and have the following information available date of the charge amount of the charge your name email address and phone number charge id a unique digit alphanumeric code that customer service can use to locate your charge e amazon a b cd prime now b b cd amzn mktp us b cd note this id only appears when the card is charged it is not present on pending charges authorizations use your order history to review your orders and shipments to compare the charges with the charges on your bank statement</td>\n",
       "      <td>1</td>\n",
       "    </tr>\n",
       "    <tr>\n",
       "      <th>1</th>\n",
       "      <td>5059</td>\n",
       "      <td>A charge dispute</td>\n",
       "      <td>200</td>\n",
       "      <td>why can not i log into my account if you are having trouble logging in you may be entering incorrect account information or you may need to reset your password here are some things to check email address your email address must be in the format or net org etc if you have more than one email address make sure you are using the correct email address and password combination mobile phone number if you created your account with a mobile phone number you will need to use your mobile phone number to log into your account make sure that you are including your country code in your mobile phone number password check caps lock and num lock on your keyboard passwords are case sensitive so password and password are recognized as two different passwords if you are sure you are using the correct email address or mobile phone number try to reset your password</td>\n",
       "      <td>0</td>\n",
       "    </tr>\n",
       "    <tr>\n",
       "      <th>2</th>\n",
       "      <td>5059</td>\n",
       "      <td>A charge dispute</td>\n",
       "      <td>112</td>\n",
       "      <td>multiple charges for the same order orders may be split into multiple shipments or even multiple orders because we charge for items when they are shipped this may result in multiple charges however the total amount charged should add up to the amount displayed when you placed the order items from a single order may be sent as more than one shipment for several reasons the most common are one or more of the items was sold and dispatched by a marketplace seller we dispatched the items from different fulfillment centers the items had different availabilities and you selected the i want my items faster ship items as they become available option at checkout the items are being delivered to more than one address selecting different delivery addresses for the items in an order will result in each delivery address being assigned a different order number the order summary in your account will show the amount charged for each delivery as well as the total charged per order</td>\n",
       "      <td>0</td>\n",
       "    </tr>\n",
       "    <tr>\n",
       "      <th>3</th>\n",
       "      <td>5059</td>\n",
       "      <td>A charge dispute</td>\n",
       "      <td>29</td>\n",
       "      <td>about the amazon prime membership fee at the end of the amazon prime free trial or your chosen membership period your card will be charged automatically for the next membership period note the annual membership fees for amazon prime and prime student changed on monthly memberships remain at and more information about this can be found at amazon prime price change if you choose to be charged on a monthly basis your membership charge will be if you choose to be charged on an annual basis you will be charged prime video membership is a month ebt and medicaid cardholders who verify a valid ebt including wic tanf or snap or medicaid including medical card are eligible to receive prime benefits at a discounted charge of per month for a maximum of four years to verify your ebt or medicaid card and find more information about this offer visit here your prime membership may be subject to sales tax in some states if you did not intend to continue your membership from a free trial to a paid membership you can cancel your amazon prime membership on the manage prime membership page if you have not used your prime benefits you are eligible for a full refund of your current membership period note if your prime membership is associated with a service you receive through another company such as sprint please reach out to that company for details about your membership rate and to manage your membership when a prime membership promotion is offered it allows you to purchase a nonrefundable year of prime membership at a discounted rate this will extend the membership of any current prime member by one year and you will not be charged again until after your promotional membership has ended if your prime membership is cancelled any unused extensions will also be cancelled</td>\n",
       "      <td>0</td>\n",
       "    </tr>\n",
       "    <tr>\n",
       "      <th>4</th>\n",
       "      <td>5288</td>\n",
       "      <td>A charge from Amazon</td>\n",
       "      <td>184</td>\n",
       "      <td>unknown charges there are several reasons why you might not recognize a charge if you want to review your complete order history go to your orders the following are common scenarios for unknown charges an amazon prime yearly subscription was renewed for more information go to manage your prime membership a bank has placed an authorization hold for recently canceled or changed orders when you place an order amazon contacts the issuing bank to confirm the validity of the payment method your bank reserves the funds until the transaction processes or the authorization expires but this is not an actual charge if you cancelled your order the authorization will be removed from your account according to the policies of your bank to remove an authorization contact your bank to clarify how long they hold authorizations for online orders an order was placed by a family member friend or coworker with access to your card number additional cards are associated with the credit or debit account a backordered or preordered item shipped a gift order shipped an order placed outside amazon using amazon pay amazon pay orders begin with p and are followed by digits check your amazon pay account for your order history for further assistance with any amazon pay transactions see the amazon pay help pages an order was split into multiple shipments or sent to multiple shipping addresses note this appears on your statement as separate charges if the charge is not explained by any of these situations contact us by phone and have the following information available date of the charge amount of the charge your name email address and phone number charge id a unique digit alphanumeric code that customer service can use to locate your charge e amazon a b cd prime now b b cd amzn mktp us b cd note this id only appears when the card is charged it is not present on pending charges authorizations use your order history to review your orders and shipments to compare the charges with the charges on your bank statement</td>\n",
       "      <td>1</td>\n",
       "    </tr>\n",
       "    <tr>\n",
       "      <th>...</th>\n",
       "      <td>...</td>\n",
       "      <td>...</td>\n",
       "      <td>...</td>\n",
       "      <td>...</td>\n",
       "      <td>...</td>\n",
       "    </tr>\n",
       "    <tr>\n",
       "      <th>3167</th>\n",
       "      <td>1162762</td>\n",
       "      <td>• is the order number.</td>\n",
       "      <td>179</td>\n",
       "      <td>track your package after an order has shipped you can track your packages on amazon from your orders you can find tracking information in your order details if an order includes multiple items each may have separate delivery dates and tracking information want to track a package find tracking information and order details from your orders your orders note some shipments such as standard international shipments not fulfilled by amazon global are not trackable to track your package go to your orders go to the order you want to track click track package next to your order if shipped separately if your package or tracking information is missing go to about missing packages that show as delivered about missing tracking information note international orders may be subject to customs clearance procedures that can cause delays in delivery to see estimated shipping times for your region go to global shipping times</td>\n",
       "      <td>0</td>\n",
       "    </tr>\n",
       "    <tr>\n",
       "      <th>3168</th>\n",
       "      <td>1166106</td>\n",
       "      <td>• with a return</td>\n",
       "      <td>151</td>\n",
       "      <td>return items you ordered you can return many items sold on amazon when you return an item you may see different return options depending on the seller item or reason for return need to return an item shipped by amazon go to your orders for a conventional return to return an item you ordered go to your orders to display your recent orders to return a gift see return a gift choose the order and select return or replace items select the item you want to return and select an option from the reason for return menu choose how to process your return if applicable select to issue a refund or replacement for items sold from an amazon seller you will see submit return request the amazon seller reviews return requests before issuing a refund or replacement if you do not receive a response within two business days you can submit an a to z guarantee claim for more information see about a to z guarantee select your preferred return method print your return label and return authorization tip each return label is assigned to a specific return to make sure that you receive the correct refund do not include items from multiple orders or shipments in the same box add your return label if applicable and package your items for return pack your item securely following the instructions sent to you when you requested your return from the returns center you can view the status of a return or a refund in your orders by selecting view return refund status next to the relevant order for a labelfree boxfree return initiate the return through your orders if you selected a labelfree boxfree return location you do not have to package your item in a shipping box after completing the steps in the returns process you will receive a qr code bring the item you want to return and the digital qr code to the dropoff location note before returning items on which you have saved personal information such as laptops cameras or other electronic devices erase this information completely</td>\n",
       "      <td>1</td>\n",
       "    </tr>\n",
       "    <tr>\n",
       "      <th>3169</th>\n",
       "      <td>1166106</td>\n",
       "      <td>• with a return</td>\n",
       "      <td>166</td>\n",
       "      <td>send a gift receipt you can send a gift receipt to a gift recipient to allow them to return items to send a gift receipt to a gift recipient do one of the following send the gift receipt during checkout while placing the order select the this order contains a gift checkbox select proceed to checkout on the choose gift options page select this item is a gift and email recipient a digital copy of their gift receipt after the gift is delivered enter the recipient is email address and select save gift options send a gift receipt for items not marked as a gift after checkout go to your orders find the item and select share gift receipt select the link provided choose how you want to send the gift receipt to the recipient for example email chat sms etc note you can only create gift receipts within the eligible return window for the item if the option to create a gift receipt is not available the item is not eligible for a return see return a gift for more information regarding gift returns</td>\n",
       "      <td>0</td>\n",
       "    </tr>\n",
       "    <tr>\n",
       "      <th>3170</th>\n",
       "      <td>1166106</td>\n",
       "      <td>• with a return</td>\n",
       "      <td>45</td>\n",
       "      <td>apply for a credit card in the credit card marketplace the credit card marketplace allows you to browse for new credit cards from us financial institutions that fit your needs to apply for a credit card search the credit card marketplace for a credit card you would like to apply for click apply now you will be redirected to the credit card application on the financial institution is website fill in the credit card application and click submit application note amazon does not have any information regarding the status of your application for any questions regarding your application please contact the financial institution of the card you are applying for you will receive a decision from the financial institution if you applied for a credit card via credit card marketplace that offers an amazon gift card incentive and your application was approved the issuer of the credit card will be providing you with your amazon gift card if you have not received your amazon gift card or believe the amount of the gift card is incorrect please contact the financial institution that approved your application</td>\n",
       "      <td>0</td>\n",
       "    </tr>\n",
       "    <tr>\n",
       "      <th>3171</th>\n",
       "      <td>1166106</td>\n",
       "      <td>• with a return</td>\n",
       "      <td>66</td>\n",
       "      <td>cancel a return if you need to change a return request or you no longer want to return the item you can cancel your return if you have requested an exchange or replacement or if you have already been refunded you will not be able to cancel the return through the following steps you can cancel a replacement or exchange order by visiting your orders to cancel a return go to the returns center select manage returns select cancel this return a text box will pop up to confirm you want to cancel the return select cancel this return you will have the option to create a new return after you have canceled the existing return if you requested a pickup for your return you can ignore the pickup attempts or contact the carrier to cancel the pickup</td>\n",
       "      <td>0</td>\n",
       "    </tr>\n",
       "  </tbody>\n",
       "</table>\n",
       "<p>3172 rows × 5 columns</p>\n",
       "</div>"
      ],
      "text/plain": [
       "          qid                   query  pid  \\\n",
       "0        5059        A charge dispute  184   \n",
       "1        5059        A charge dispute  200   \n",
       "2        5059        A charge dispute  112   \n",
       "3        5059        A charge dispute   29   \n",
       "4        5288    A charge from Amazon  184   \n",
       "...       ...                     ...  ...   \n",
       "3167  1162762  • is the order number.  179   \n",
       "3168  1166106         • with a return  151   \n",
       "3169  1166106         • with a return  166   \n",
       "3170  1166106         • with a return   45   \n",
       "3171  1166106         • with a return   66   \n",
       "\n",
       "                                                                                                                                                                                                                                                                                                                                                                                                                                                                                                                                                                                                                                                                                                                                                                                                                                                                                                                                                                                                                                                                                                                                                                                                                                                                                                                                                                                                                                                                                                                                                                                                                                                                                                                                                                                                                                                                                                                                                                                                                                                                                            passage  \\\n",
       "0     unknown charges there are several reasons why you might not recognize a charge if you want to review your complete order history go to your orders the following are common scenarios for unknown charges an amazon prime yearly subscription was renewed for more information go to manage your prime membership a bank has placed an authorization hold for recently canceled or changed orders when you place an order amazon contacts the issuing bank to confirm the validity of the payment method your bank reserves the funds until the transaction processes or the authorization expires but this is not an actual charge if you cancelled your order the authorization will be removed from your account according to the policies of your bank to remove an authorization contact your bank to clarify how long they hold authorizations for online orders an order was placed by a family member friend or coworker with access to your card number additional cards are associated with the credit or debit account a backordered or preordered item shipped a gift order shipped an order placed outside amazon using amazon pay amazon pay orders begin with p and are followed by digits check your amazon pay account for your order history for further assistance with any amazon pay transactions see the amazon pay help pages an order was split into multiple shipments or sent to multiple shipping addresses note this appears on your statement as separate charges if the charge is not explained by any of these situations contact us by phone and have the following information available date of the charge amount of the charge your name email address and phone number charge id a unique digit alphanumeric code that customer service can use to locate your charge e amazon a b cd prime now b b cd amzn mktp us b cd note this id only appears when the card is charged it is not present on pending charges authorizations use your order history to review your orders and shipments to compare the charges with the charges on your bank statement   \n",
       "1                                                                                                                                                                                                                                                                                                                                                                                                                                                                                                                                                                                                                                                                                                                                                                                                                                                                                                                                                                                                                                                                                                                                                                                                          why can not i log into my account if you are having trouble logging in you may be entering incorrect account information or you may need to reset your password here are some things to check email address your email address must be in the format or net org etc if you have more than one email address make sure you are using the correct email address and password combination mobile phone number if you created your account with a mobile phone number you will need to use your mobile phone number to log into your account make sure that you are including your country code in your mobile phone number password check caps lock and num lock on your keyboard passwords are case sensitive so password and password are recognized as two different passwords if you are sure you are using the correct email address or mobile phone number try to reset your password   \n",
       "2                                                                                                                                                                                                                                                                                                                                                                                                                                                                                                                                                                                                                                                                                                                                                                                                                                                                                                                                                                                                                                                                                 multiple charges for the same order orders may be split into multiple shipments or even multiple orders because we charge for items when they are shipped this may result in multiple charges however the total amount charged should add up to the amount displayed when you placed the order items from a single order may be sent as more than one shipment for several reasons the most common are one or more of the items was sold and dispatched by a marketplace seller we dispatched the items from different fulfillment centers the items had different availabilities and you selected the i want my items faster ship items as they become available option at checkout the items are being delivered to more than one address selecting different delivery addresses for the items in an order will result in each delivery address being assigned a different order number the order summary in your account will show the amount charged for each delivery as well as the total charged per order   \n",
       "3                                                                                                                                                                                                                                               about the amazon prime membership fee at the end of the amazon prime free trial or your chosen membership period your card will be charged automatically for the next membership period note the annual membership fees for amazon prime and prime student changed on monthly memberships remain at and more information about this can be found at amazon prime price change if you choose to be charged on a monthly basis your membership charge will be if you choose to be charged on an annual basis you will be charged prime video membership is a month ebt and medicaid cardholders who verify a valid ebt including wic tanf or snap or medicaid including medical card are eligible to receive prime benefits at a discounted charge of per month for a maximum of four years to verify your ebt or medicaid card and find more information about this offer visit here your prime membership may be subject to sales tax in some states if you did not intend to continue your membership from a free trial to a paid membership you can cancel your amazon prime membership on the manage prime membership page if you have not used your prime benefits you are eligible for a full refund of your current membership period note if your prime membership is associated with a service you receive through another company such as sprint please reach out to that company for details about your membership rate and to manage your membership when a prime membership promotion is offered it allows you to purchase a nonrefundable year of prime membership at a discounted rate this will extend the membership of any current prime member by one year and you will not be charged again until after your promotional membership has ended if your prime membership is cancelled any unused extensions will also be cancelled   \n",
       "4     unknown charges there are several reasons why you might not recognize a charge if you want to review your complete order history go to your orders the following are common scenarios for unknown charges an amazon prime yearly subscription was renewed for more information go to manage your prime membership a bank has placed an authorization hold for recently canceled or changed orders when you place an order amazon contacts the issuing bank to confirm the validity of the payment method your bank reserves the funds until the transaction processes or the authorization expires but this is not an actual charge if you cancelled your order the authorization will be removed from your account according to the policies of your bank to remove an authorization contact your bank to clarify how long they hold authorizations for online orders an order was placed by a family member friend or coworker with access to your card number additional cards are associated with the credit or debit account a backordered or preordered item shipped a gift order shipped an order placed outside amazon using amazon pay amazon pay orders begin with p and are followed by digits check your amazon pay account for your order history for further assistance with any amazon pay transactions see the amazon pay help pages an order was split into multiple shipments or sent to multiple shipping addresses note this appears on your statement as separate charges if the charge is not explained by any of these situations contact us by phone and have the following information available date of the charge amount of the charge your name email address and phone number charge id a unique digit alphanumeric code that customer service can use to locate your charge e amazon a b cd prime now b b cd amzn mktp us b cd note this id only appears when the card is charged it is not present on pending charges authorizations use your order history to review your orders and shipments to compare the charges with the charges on your bank statement   \n",
       "...                                                                                                                                                                                                                                                                                                                                                                                                                                                                                                                                                                                                                                                                                                                                                                                                                                                                                                                                                                                                                                                                                                                                                                                                                                                                                                                                                                                                                                                                                                                                                                                                                                                                                                                                                                                                                                                                                                                                                                                                                                                                                             ...   \n",
       "3167                                                                                                                                                                                                                                                                                                                                                                                                                                                                                                                                                                                                                                                                                                                                                                                                                                                                                                                                                                                                                                                                                                                                         track your package after an order has shipped you can track your packages on amazon from your orders you can find tracking information in your order details if an order includes multiple items each may have separate delivery dates and tracking information want to track a package find tracking information and order details from your orders your orders note some shipments such as standard international shipments not fulfilled by amazon global are not trackable to track your package go to your orders go to the order you want to track click track package next to your order if shipped separately if your package or tracking information is missing go to about missing packages that show as delivered about missing tracking information note international orders may be subject to customs clearance procedures that can cause delays in delivery to see estimated shipping times for your region go to global shipping times   \n",
       "3168                                        return items you ordered you can return many items sold on amazon when you return an item you may see different return options depending on the seller item or reason for return need to return an item shipped by amazon go to your orders for a conventional return to return an item you ordered go to your orders to display your recent orders to return a gift see return a gift choose the order and select return or replace items select the item you want to return and select an option from the reason for return menu choose how to process your return if applicable select to issue a refund or replacement for items sold from an amazon seller you will see submit return request the amazon seller reviews return requests before issuing a refund or replacement if you do not receive a response within two business days you can submit an a to z guarantee claim for more information see about a to z guarantee select your preferred return method print your return label and return authorization tip each return label is assigned to a specific return to make sure that you receive the correct refund do not include items from multiple orders or shipments in the same box add your return label if applicable and package your items for return pack your item securely following the instructions sent to you when you requested your return from the returns center you can view the status of a return or a refund in your orders by selecting view return refund status next to the relevant order for a labelfree boxfree return initiate the return through your orders if you selected a labelfree boxfree return location you do not have to package your item in a shipping box after completing the steps in the returns process you will receive a qr code bring the item you want to return and the digital qr code to the dropoff location note before returning items on which you have saved personal information such as laptops cameras or other electronic devices erase this information completely   \n",
       "3169                                                                                                                                                                                                                                                                                                                                                                                                                                                                                                                                                                                                                                                                                                                                                                                                                                                                                                                                                                                                                                                         send a gift receipt you can send a gift receipt to a gift recipient to allow them to return items to send a gift receipt to a gift recipient do one of the following send the gift receipt during checkout while placing the order select the this order contains a gift checkbox select proceed to checkout on the choose gift options page select this item is a gift and email recipient a digital copy of their gift receipt after the gift is delivered enter the recipient is email address and select save gift options send a gift receipt for items not marked as a gift after checkout go to your orders find the item and select share gift receipt select the link provided choose how you want to send the gift receipt to the recipient for example email chat sms etc note you can only create gift receipts within the eligible return window for the item if the option to create a gift receipt is not available the item is not eligible for a return see return a gift for more information regarding gift returns   \n",
       "3170                                                                                                                                                                                                                                                                                                                                                                                                                                                                                                                                                                                                                                                                                                                                                                                                                                                                                                                                             apply for a credit card in the credit card marketplace the credit card marketplace allows you to browse for new credit cards from us financial institutions that fit your needs to apply for a credit card search the credit card marketplace for a credit card you would like to apply for click apply now you will be redirected to the credit card application on the financial institution is website fill in the credit card application and click submit application note amazon does not have any information regarding the status of your application for any questions regarding your application please contact the financial institution of the card you are applying for you will receive a decision from the financial institution if you applied for a credit card via credit card marketplace that offers an amazon gift card incentive and your application was approved the issuer of the credit card will be providing you with your amazon gift card if you have not received your amazon gift card or believe the amount of the gift card is incorrect please contact the financial institution that approved your application   \n",
       "3171                                                                                                                                                                                                                                                                                                                                                                                                                                                                                                                                                                                                                                                                                                                                                                                                                                                                                                                                                                                                                                                                                                                                                                                                                                                                                                                       cancel a return if you need to change a return request or you no longer want to return the item you can cancel your return if you have requested an exchange or replacement or if you have already been refunded you will not be able to cancel the return through the following steps you can cancel a replacement or exchange order by visiting your orders to cancel a return go to the returns center select manage returns select cancel this return a text box will pop up to confirm you want to cancel the return select cancel this return you will have the option to create a new return after you have canceled the existing return if you requested a pickup for your return you can ignore the pickup attempts or contact the carrier to cancel the pickup   \n",
       "\n",
       "      label  \n",
       "0         1  \n",
       "1         0  \n",
       "2         0  \n",
       "3         0  \n",
       "4         1  \n",
       "...     ...  \n",
       "3167      0  \n",
       "3168      1  \n",
       "3169      0  \n",
       "3170      0  \n",
       "3171      0  \n",
       "\n",
       "[3172 rows x 5 columns]"
      ]
     },
     "execution_count": 6,
     "metadata": {},
     "output_type": "execute_result"
    }
   ],
   "source": [
    "# import sys\n",
    "# import pandas as pd\n",
    "# sys.path.append('/home/srikamma/efs/workspace/CS-QASystem-Torch/src/CS-QASystem-Torch/src/cs_qa_system_torch/')\n",
    "# from information_retrieval.ir_utils import load_passage_collection\n",
    "# a = '/data/QAData/InformationRetrievalData/amazon/production_collection.json'\n",
    "# passage_collection, pid_passage_tuple, passage_collection_ae = load_passage_collection(a)\n",
    "# data = pd.read_csv('/data/QAData/InformationRetrievalData/amazon/finetune_rank_test.tsv',sep='\\t')\n",
    "# data"
   ]
  },
  {
   "cell_type": "code",
   "execution_count": 8,
   "metadata": {},
   "outputs": [
    {
     "ename": "KeyError",
     "evalue": "'pid'",
     "output_type": "error",
     "traceback": [
      "\u001b[0;31m---------------------------------------------------------------------------\u001b[0m",
      "\u001b[0;31mKeyError\u001b[0m                                  Traceback (most recent call last)",
      "\u001b[0;32m~/anaconda3/envs/torch/lib/python3.7/site-packages/pandas/core/indexes/base.py\u001b[0m in \u001b[0;36mget_loc\u001b[0;34m(self, key, method, tolerance)\u001b[0m\n\u001b[1;32m   2645\u001b[0m             \u001b[0;32mtry\u001b[0m\u001b[0;34m:\u001b[0m\u001b[0;34m\u001b[0m\u001b[0;34m\u001b[0m\u001b[0m\n\u001b[0;32m-> 2646\u001b[0;31m                 \u001b[0;32mreturn\u001b[0m \u001b[0mself\u001b[0m\u001b[0;34m.\u001b[0m\u001b[0m_engine\u001b[0m\u001b[0;34m.\u001b[0m\u001b[0mget_loc\u001b[0m\u001b[0;34m(\u001b[0m\u001b[0mkey\u001b[0m\u001b[0;34m)\u001b[0m\u001b[0;34m\u001b[0m\u001b[0;34m\u001b[0m\u001b[0m\n\u001b[0m\u001b[1;32m   2647\u001b[0m             \u001b[0;32mexcept\u001b[0m \u001b[0mKeyError\u001b[0m\u001b[0;34m:\u001b[0m\u001b[0;34m\u001b[0m\u001b[0;34m\u001b[0m\u001b[0m\n",
      "\u001b[0;32mpandas/_libs/index.pyx\u001b[0m in \u001b[0;36mpandas._libs.index.IndexEngine.get_loc\u001b[0;34m()\u001b[0m\n",
      "\u001b[0;32mpandas/_libs/index.pyx\u001b[0m in \u001b[0;36mpandas._libs.index.IndexEngine.get_loc\u001b[0;34m()\u001b[0m\n",
      "\u001b[0;32mpandas/_libs/hashtable_class_helper.pxi\u001b[0m in \u001b[0;36mpandas._libs.hashtable.PyObjectHashTable.get_item\u001b[0;34m()\u001b[0m\n",
      "\u001b[0;32mpandas/_libs/hashtable_class_helper.pxi\u001b[0m in \u001b[0;36mpandas._libs.hashtable.PyObjectHashTable.get_item\u001b[0;34m()\u001b[0m\n",
      "\u001b[0;31mKeyError\u001b[0m: 'pid'",
      "\nDuring handling of the above exception, another exception occurred:\n",
      "\u001b[0;31mKeyError\u001b[0m                                  Traceback (most recent call last)",
      "\u001b[0;32m<ipython-input-8-7d9abba17d26>\u001b[0m in \u001b[0;36m<module>\u001b[0;34m\u001b[0m\n\u001b[1;32m      1\u001b[0m \u001b[0mdf\u001b[0m \u001b[0;34m=\u001b[0m \u001b[0mpd\u001b[0m\u001b[0;34m.\u001b[0m\u001b[0mDataFrame\u001b[0m\u001b[0;34m(\u001b[0m\u001b[0mpassage_collection_ae\u001b[0m\u001b[0;34m.\u001b[0m\u001b[0mitems\u001b[0m\u001b[0;34m(\u001b[0m\u001b[0;34m)\u001b[0m\u001b[0;34m,\u001b[0m\u001b[0mcolumns\u001b[0m\u001b[0;34m=\u001b[0m\u001b[0;34m[\u001b[0m\u001b[0;34m'pid'\u001b[0m\u001b[0;34m,\u001b[0m\u001b[0;34m'passage'\u001b[0m\u001b[0;34m]\u001b[0m\u001b[0;34m)\u001b[0m\u001b[0;34m\u001b[0m\u001b[0;34m\u001b[0m\u001b[0m\n\u001b[1;32m      2\u001b[0m \u001b[0;31m#passage_collection_ae[pd.merge(data,df,on=['passage'],how='left')['pid'][0]]\u001b[0m\u001b[0;34m\u001b[0m\u001b[0;34m\u001b[0m\u001b[0;34m\u001b[0m\u001b[0m\n\u001b[0;32m----> 3\u001b[0;31m \u001b[0mpd\u001b[0m\u001b[0;34m.\u001b[0m\u001b[0mmerge\u001b[0m\u001b[0;34m(\u001b[0m\u001b[0mdata\u001b[0m\u001b[0;34m,\u001b[0m\u001b[0mdf\u001b[0m\u001b[0;34m,\u001b[0m\u001b[0mon\u001b[0m\u001b[0;34m=\u001b[0m\u001b[0;34m[\u001b[0m\u001b[0;34m'passage'\u001b[0m\u001b[0;34m]\u001b[0m\u001b[0;34m,\u001b[0m\u001b[0mhow\u001b[0m\u001b[0;34m=\u001b[0m\u001b[0;34m'left'\u001b[0m\u001b[0;34m)\u001b[0m\u001b[0;34m[\u001b[0m\u001b[0;34m'pid'\u001b[0m\u001b[0;34m]\u001b[0m\u001b[0;34m\u001b[0m\u001b[0;34m\u001b[0m\u001b[0m\n\u001b[0m",
      "\u001b[0;32m~/anaconda3/envs/torch/lib/python3.7/site-packages/pandas/core/frame.py\u001b[0m in \u001b[0;36m__getitem__\u001b[0;34m(self, key)\u001b[0m\n\u001b[1;32m   2798\u001b[0m             \u001b[0;32mif\u001b[0m \u001b[0mself\u001b[0m\u001b[0;34m.\u001b[0m\u001b[0mcolumns\u001b[0m\u001b[0;34m.\u001b[0m\u001b[0mnlevels\u001b[0m \u001b[0;34m>\u001b[0m \u001b[0;36m1\u001b[0m\u001b[0;34m:\u001b[0m\u001b[0;34m\u001b[0m\u001b[0;34m\u001b[0m\u001b[0m\n\u001b[1;32m   2799\u001b[0m                 \u001b[0;32mreturn\u001b[0m \u001b[0mself\u001b[0m\u001b[0;34m.\u001b[0m\u001b[0m_getitem_multilevel\u001b[0m\u001b[0;34m(\u001b[0m\u001b[0mkey\u001b[0m\u001b[0;34m)\u001b[0m\u001b[0;34m\u001b[0m\u001b[0;34m\u001b[0m\u001b[0m\n\u001b[0;32m-> 2800\u001b[0;31m             \u001b[0mindexer\u001b[0m \u001b[0;34m=\u001b[0m \u001b[0mself\u001b[0m\u001b[0;34m.\u001b[0m\u001b[0mcolumns\u001b[0m\u001b[0;34m.\u001b[0m\u001b[0mget_loc\u001b[0m\u001b[0;34m(\u001b[0m\u001b[0mkey\u001b[0m\u001b[0;34m)\u001b[0m\u001b[0;34m\u001b[0m\u001b[0;34m\u001b[0m\u001b[0m\n\u001b[0m\u001b[1;32m   2801\u001b[0m             \u001b[0;32mif\u001b[0m \u001b[0mis_integer\u001b[0m\u001b[0;34m(\u001b[0m\u001b[0mindexer\u001b[0m\u001b[0;34m)\u001b[0m\u001b[0;34m:\u001b[0m\u001b[0;34m\u001b[0m\u001b[0;34m\u001b[0m\u001b[0m\n\u001b[1;32m   2802\u001b[0m                 \u001b[0mindexer\u001b[0m \u001b[0;34m=\u001b[0m \u001b[0;34m[\u001b[0m\u001b[0mindexer\u001b[0m\u001b[0;34m]\u001b[0m\u001b[0;34m\u001b[0m\u001b[0;34m\u001b[0m\u001b[0m\n",
      "\u001b[0;32m~/anaconda3/envs/torch/lib/python3.7/site-packages/pandas/core/indexes/base.py\u001b[0m in \u001b[0;36mget_loc\u001b[0;34m(self, key, method, tolerance)\u001b[0m\n\u001b[1;32m   2646\u001b[0m                 \u001b[0;32mreturn\u001b[0m \u001b[0mself\u001b[0m\u001b[0;34m.\u001b[0m\u001b[0m_engine\u001b[0m\u001b[0;34m.\u001b[0m\u001b[0mget_loc\u001b[0m\u001b[0;34m(\u001b[0m\u001b[0mkey\u001b[0m\u001b[0;34m)\u001b[0m\u001b[0;34m\u001b[0m\u001b[0;34m\u001b[0m\u001b[0m\n\u001b[1;32m   2647\u001b[0m             \u001b[0;32mexcept\u001b[0m \u001b[0mKeyError\u001b[0m\u001b[0;34m:\u001b[0m\u001b[0;34m\u001b[0m\u001b[0;34m\u001b[0m\u001b[0m\n\u001b[0;32m-> 2648\u001b[0;31m                 \u001b[0;32mreturn\u001b[0m \u001b[0mself\u001b[0m\u001b[0;34m.\u001b[0m\u001b[0m_engine\u001b[0m\u001b[0;34m.\u001b[0m\u001b[0mget_loc\u001b[0m\u001b[0;34m(\u001b[0m\u001b[0mself\u001b[0m\u001b[0;34m.\u001b[0m\u001b[0m_maybe_cast_indexer\u001b[0m\u001b[0;34m(\u001b[0m\u001b[0mkey\u001b[0m\u001b[0;34m)\u001b[0m\u001b[0;34m)\u001b[0m\u001b[0;34m\u001b[0m\u001b[0;34m\u001b[0m\u001b[0m\n\u001b[0m\u001b[1;32m   2649\u001b[0m         \u001b[0mindexer\u001b[0m \u001b[0;34m=\u001b[0m \u001b[0mself\u001b[0m\u001b[0;34m.\u001b[0m\u001b[0mget_indexer\u001b[0m\u001b[0;34m(\u001b[0m\u001b[0;34m[\u001b[0m\u001b[0mkey\u001b[0m\u001b[0;34m]\u001b[0m\u001b[0;34m,\u001b[0m \u001b[0mmethod\u001b[0m\u001b[0;34m=\u001b[0m\u001b[0mmethod\u001b[0m\u001b[0;34m,\u001b[0m \u001b[0mtolerance\u001b[0m\u001b[0;34m=\u001b[0m\u001b[0mtolerance\u001b[0m\u001b[0;34m)\u001b[0m\u001b[0;34m\u001b[0m\u001b[0;34m\u001b[0m\u001b[0m\n\u001b[1;32m   2650\u001b[0m         \u001b[0;32mif\u001b[0m \u001b[0mindexer\u001b[0m\u001b[0;34m.\u001b[0m\u001b[0mndim\u001b[0m \u001b[0;34m>\u001b[0m \u001b[0;36m1\u001b[0m \u001b[0;32mor\u001b[0m \u001b[0mindexer\u001b[0m\u001b[0;34m.\u001b[0m\u001b[0msize\u001b[0m \u001b[0;34m>\u001b[0m \u001b[0;36m1\u001b[0m\u001b[0;34m:\u001b[0m\u001b[0;34m\u001b[0m\u001b[0;34m\u001b[0m\u001b[0m\n",
      "\u001b[0;32mpandas/_libs/index.pyx\u001b[0m in \u001b[0;36mpandas._libs.index.IndexEngine.get_loc\u001b[0;34m()\u001b[0m\n",
      "\u001b[0;32mpandas/_libs/index.pyx\u001b[0m in \u001b[0;36mpandas._libs.index.IndexEngine.get_loc\u001b[0;34m()\u001b[0m\n",
      "\u001b[0;32mpandas/_libs/hashtable_class_helper.pxi\u001b[0m in \u001b[0;36mpandas._libs.hashtable.PyObjectHashTable.get_item\u001b[0;34m()\u001b[0m\n",
      "\u001b[0;32mpandas/_libs/hashtable_class_helper.pxi\u001b[0m in \u001b[0;36mpandas._libs.hashtable.PyObjectHashTable.get_item\u001b[0;34m()\u001b[0m\n",
      "\u001b[0;31mKeyError\u001b[0m: 'pid'"
     ]
    }
   ],
   "source": [
    "df = pd.DataFrame(passage_collection_ae.items(),columns=['pid','passage'])\n",
    "#passage_collection_ae[pd.merge(data,df,on=['passage'],how='left')['pid'][0]]\n",
    "pd.merge(data,df,on=['passage'],how='left')['pid']"
   ]
  },
  {
   "cell_type": "markdown",
   "metadata": {},
   "source": [
    "### Real Time Inference (BM25 + IR) Model"
   ]
  },
  {
   "cell_type": "code",
   "execution_count": null,
   "metadata": {},
   "outputs": [],
   "source": [
    "import sys\n",
    "sys.path.append('/home/srikamma/efs/workspace/CS-QASystem-Torch/src/CS-QASystem-Torch/src/cs_qa_system_torch/')\n",
    "from information_retrieval.ir_inference_combined import ScorePrediction\n",
    "import pandas as pd\n",
    "pd.set_option('display.max_colwidth', None)"
   ]
  },
  {
   "cell_type": "code",
   "execution_count": null,
   "metadata": {},
   "outputs": [],
   "source": [
    "%%time\n",
    "query = 'yes'\n",
    "out = ScorePrediction.get_documents(query)"
   ]
  },
  {
   "cell_type": "code",
   "execution_count": null,
   "metadata": {},
   "outputs": [],
   "source": [
    "out\n"
   ]
  },
  {
   "cell_type": "code",
   "execution_count": null,
   "metadata": {},
   "outputs": [],
   "source": [
    "x = [ScorePrediction.transform(query,i[3]) for i in out]\n",
    "type(x[0])"
   ]
  },
  {
   "cell_type": "code",
   "execution_count": null,
   "metadata": {},
   "outputs": [],
   "source": [
    "%%time\n",
    "import torch\n",
    "with torch.no_grad():\n",
    "    ScorePrediction.ml_model(*out)"
   ]
  },
  {
   "cell_type": "markdown",
   "metadata": {},
   "source": [
    "## Answer Extraction"
   ]
  },
  {
   "cell_type": "markdown",
   "metadata": {},
   "source": [
    "### Train Answer Extraction Model"
   ]
  },
  {
   "cell_type": "code",
   "execution_count": null,
   "metadata": {},
   "outputs": [],
   "source": [
    "%%time\n",
    "import sys\n",
    "sys.path.append('/home/srikamma/efs/workspace/CS-QASystem-Torch/src/CS-QASystem-Torch/src/cs_qa_system_torch/')\n",
    "\n",
    "%run -i /home/srikamma/efs/workspace/CS-QASystem-Torch/src/CS-QASystem-Torch/src/cs_qa_system_torch/answer_extraction/run_squad_final.py \\\n",
    "    --model_type bert \\\n",
    "    --model_name_or_path bert-base-uncased \\\n",
    "    --do_lower_case \\\n",
    "    --do_train \\\n",
    "    --do_eval \\\n",
    "    --data_dir '/data/QAData/AnswerExtractionData/amazon' \\\n",
    "    --train_file 'train_answerextraction_100.tsv' \\\n",
    "    --predict_file 'test_answerextraction_100.tsv' \\\n",
    "    --squad_data_dir '/data/QAData/AnswerExtractionData/squad' \\\n",
    "    --squad_train_file 'train-v2.0.json' \\\n",
    "    --squad_predict_file 'dev-v2.0.json' \\\n",
    "    --per_gpu_train_batch_size 12 \\\n",
    "    --learning_rate 3e-5 \\\n",
    "    --num_train_epochs 2.0 \\\n",
    "    --max_seq_length 384 \\\n",
    "    --doc_stride 128 \\\n",
    "    --version_2_with_negative \\\n",
    "    --add_neg \\\n",
    "    --output_dir '/home/srikamma/efs/work/QASystem/QAModel/output_answer_extraction/bert_output_final'"
   ]
  },
  {
   "cell_type": "markdown",
   "metadata": {},
   "source": [
    "### Fine Tuning Answer Extraction with New Amazon Data"
   ]
  },
  {
   "cell_type": "code",
   "execution_count": null,
   "metadata": {},
   "outputs": [],
   "source": [
    "import pandas as pd\n",
    "realtime_new_annotations = [\n",
    "    {\n",
    "    \"qid\":20000,\n",
    "    \"query\":\"cancel my music subscription\",\n",
    "    \"answer\":\"If you subscribed to Amazon Music Unlimited through iTunes visit the [Apple website](https://support.apple.com/HT202039) to cancel your subscription. If you subscribed through a third-party, such as a mobile service provider, contact them for further assistance. Go to [Your Amazon Music Settings](https://www.amazon.com/music/settings). Go to the Amazon Music Unlimited section. Select the Cancel option in your Subscription Renewal details. Confirm the cancellation\",\n",
    "    \"passage\":\"Cancel Amazon Music Unlimited Subscription: Cancel your subscription online. If you subscribed to Amazon Music Unlimited through iTunes visit the [Apple website](https://support.apple.com/HT202039) to cancel your subscription. If you subscribed through a third-party, such as a mobile service provider, contact them for further assistance. Go to [Your Amazon Music Settings](https://www.amazon.com/music/settings). Go to the Amazon Music Unlimited section. Select the Cancel option in your Subscription Renewal details. Confirm the cancellation. Note: You can continue to access Amazon Music Unlimited until the end date. After this date, any Amazon Music Unlimited titles you've added to Library will be grayed out, with playback options removed.Cancelling an Amazon Music Unlimited subscription also ends membership to Amazon Music HD. Video: Cancel Amazon Music Unlimited. For more help, try our [Amazon Music forum](https://www.amazon.com/gp/redirect.html/ref=hp_cr_music_forum?location=https://www.amazonforum.com/s/amazon-music&token=728A8569DD99E77B59F36EE4739090DC4E1BA6F8&source=standards). [](https://www.amazon.com/gp/redirect.html/ref=hp_cr_music_forum?location=https://www.amazonforum.com/s/amazon-music&token=728A8569DD99E77B59F36EE4739090DC4E1BA6F8&source=standards)\"\n",
    "    }\n",
    "]\n",
    "\n",
    "processed_new_annotations = '/data/QAData/AnswerExtractionData/amazon/finetune_answer_train.tsv'\n",
    "#amazon_old_annotations = '/data/QAData/AnswerExtractionData/amazon/train_answerextraction_100.tsv'\n",
    "\n",
    "df_realtime_new_annotations = pd.DataFrame(realtime_new_annotations)\n",
    "df_processed_new_annotations = pd.read_csv(processed_new_annotations,sep='\\t')\n",
    "#df_amazon_old_annotations = pd.read_csv(amazon_old_annotations,sep='\\t')\n",
    "\n",
    "#df_final = pd.concat([df_realtime_new_annotations, df_processed_new_annotations, df_amazon_old_annotations])\n",
    "df_final = pd.concat([df_realtime_new_annotations, df_processed_new_annotations])\n",
    "df_final = df_final.sample(frac=1).reset_index(drop=True)\n",
    "df_final.to_csv('/data/QAData/AnswerExtractionData/amazon/train_finetune_final.tsv',sep='\\t',index=None)"
   ]
  },
  {
   "cell_type": "code",
   "execution_count": null,
   "metadata": {},
   "outputs": [],
   "source": [
    "%%time\n",
    "import sys\n",
    "sys.path.append('/home/srikamma/efs/workspace/CS-QASystem-Torch/src/CS-QASystem-Torch/src/cs_qa_system_torch/')\n",
    "\n",
    "%run -i /home/srikamma/efs/workspace/CS-QASystem-Torch/src/CS-QASystem-Torch/src/cs_qa_system_torch/answer_extraction/run_squad_final.py \\\n",
    "    --model_type bert \\\n",
    "    --model_name_or_path '/home/srikamma/efs/work/QASystem/QAModel/output_answer_extraction/bert_output_final' \\\n",
    "    --do_lower_case \\\n",
    "    --do_train \\\n",
    "    --do_eval \\\n",
    "    --data_dir '/data/QAData/AnswerExtractionData/amazon' \\\n",
    "    --train_file 'train_finetune_final.tsv' \\\n",
    "    --predict_file 'test_answerextraction_100.tsv' \\\n",
    "    --per_gpu_train_batch_size 12 \\\n",
    "    --learning_rate 3e-5 \\\n",
    "    --num_train_epochs 2.0 \\\n",
    "    --max_seq_length 384 \\\n",
    "    --doc_stride 128 \\\n",
    "    --version_2_with_negative \\\n",
    "    --add_neg \\\n",
    "    --overwrite_output_dir \\\n",
    "    --output_dir '/home/srikamma/efs/work/QASystem/QAModel/output_answer_extraction/bert_output_final_finetune'"
   ]
  },
  {
   "cell_type": "markdown",
   "metadata": {},
   "source": [
    "### Inference of Answer Extraction Model"
   ]
  },
  {
   "cell_type": "code",
   "execution_count": null,
   "metadata": {},
   "outputs": [],
   "source": [
    "%%time\n",
    "import sys\n",
    "sys.path.append('/home/srikamma/efs/workspace/CS-QASystem-Torch/src/CS-QASystem-Torch/src/cs_qa_system_torch/')\n",
    "\n",
    "%run -i /home/srikamma/efs/workspace/CS-QASystem-Torch/src/CS-QASystem-Torch/src/cs_qa_system_torch/answer_extraction/run_squad_final.py \\\n",
    "  --model_type bert \\\n",
    "  --model_name_or_path '/home/srikamma/efs/work/QASystem/QAModel/output_answer_extraction/bert_output_final_finetune' \\\n",
    "  --do_lower_case \\\n",
    "  --do_eval \\\n",
    "  --data_dir '/data/QAData/AnswerExtractionData/amazon' \\\n",
    "  --predict_file 'finetune_answer_test.tsv' \\\n",
    "  --per_gpu_eval_batch_size 128 \\\n",
    "  --learning_rate 3e-5 \\\n",
    "  --num_train_epochs 2.0 \\\n",
    "  --max_seq_length 384 \\\n",
    "  --doc_stride 128 \\\n",
    "  --version_2_with_negative \\\n",
    "  --add_neg \\\n",
    "  --overwrite_cache \\\n",
    "  --output_dir '/home/srikamma/efs/work/QASystem/QAModel/output_answer_extraction/bert_inference'\n"
   ]
  },
  {
   "cell_type": "markdown",
   "metadata": {},
   "source": [
    "### Testing of Answer Extraction Model"
   ]
  },
  {
   "cell_type": "code",
   "execution_count": null,
   "metadata": {},
   "outputs": [],
   "source": [
    "%%time\n",
    "import sys\n",
    "sys.path.append('/home/srikamma/efs/workspace/CS-QASystem-Torch/src/CS-QASystem-Torch/src/cs_qa_system_torch/')\n",
    "\n",
    "%run -i /home/srikamma/efs/workspace/CS-QASystem-Torch/src/CS-QASystem-Torch/src/cs_qa_system_torch/answer_extraction/run_squad_final.py \\\n",
    "  --model_type bert \\\n",
    "  --model_name_or_path '/home/srikamma/efs/work/QASystem/QAModel/output_answer_extraction/bert_output_final' \\\n",
    "  --do_lower_case \\\n",
    "  --do_test \\\n",
    "  --data_dir '/data/QAData/AnswerExtractionData/amazon' \\\n",
    "  --test_file 'test_answerextraction_100.tsv' \\\n",
    "  --per_gpu_test_batch_size 128 \\\n",
    "  --learning_rate 3e-5 \\\n",
    "  --num_train_epochs 2.0 \\\n",
    "  --max_seq_length 384 \\\n",
    "  --doc_stride 128 \\\n",
    "  --version_2_with_negative \\\n",
    "  --add_neg \\\n",
    "  --overwrite_cache \\\n",
    "  --output_dir '/home/srikamma/efs/work/QASystem/QAModel/output_answer_extraction/bert_test'"
   ]
  },
  {
   "cell_type": "markdown",
   "metadata": {},
   "source": [
    "### Real Time Inference Answer Extraction"
   ]
  },
  {
   "cell_type": "code",
   "execution_count": null,
   "metadata": {},
   "outputs": [],
   "source": [
    "import sys\n",
    "sys.path.append('/home/srikamma/efs/workspace/CS-QASystem-Torch/src/CS-QASystem-Torch/src/cs_qa_system_torch/')\n",
    "from transformers import AutoModelForQuestionAnswering, AutoTokenizer\n",
    "\n",
    "output_dir = '/home/srikamma/efs/work/QASystem/QAModel/output_answer_extraction/bert_output_final_finetune'\n",
    "do_lower_case = True\n",
    "model = AutoModelForQuestionAnswering.from_pretrained(output_dir)  # , force_download=True)\n",
    "tokenizer = AutoTokenizer.from_pretrained(output_dir, do_lower_case=do_lower_case)\n",
    "device = \"cpu\"\n",
    "model.to(device)\n"
   ]
  },
  {
   "cell_type": "code",
   "execution_count": null,
   "metadata": {},
   "outputs": [],
   "source": [
    "import torch\n",
    "from transformers.data.processors.squad import SquadExample, squad_convert_example_to_features, squad_convert_example_to_features_init\n",
    "from transformers.data.metrics.squad_metrics import compute_predictions_logits\n",
    "from torch.utils.data import TensorDataset, DataLoader, RandomSampler, SequentialSampler\n",
    "from transformers.data.processors.squad import SquadResult\n",
    "\n",
    "def to_list(tensor):\n",
    "    return tensor.detach().cpu().tolist()\n",
    "\n",
    "#question = 'who is rajesh friend'\n",
    "#context = 'Manu likes swimming. His age is 23 years. Manu has friend Rajesh, whose age is 52 years.'\n",
    "\n",
    "question= \"unknown charge on my account\"\n",
    "context = \"Unknown Charges: There are several reasons why you might not recognize a charge. If you want to review your complete order history, go to [Your Orders](www.amazon.com/your-orders). The following are common scenarios for unknown charges: An Amazon Prime yearly subscription was renewed. For more information, go to [Manage Your Prime Membership](www.amazon.com/gp/subs/primeclub/account/homepage.html?ie=UTF8&ref_=nav_youraccount_prime). A bank has placed an authorization hold for recently canceled or changed orders. When you place an order, Amazon contacts the issuing bank to confirm the validity of the payment method. Your bank reserves the funds until the transaction processes or the authorization expires, but this isn't an actual charge. If you cancelled your order, the authorization will be removed from your account according to the policies of your bank. To remove an authorization, contact your bank to clarify how long they hold authorizations for online orders. An order was placed by a family member, friend, or co-worker with access to your card number. Additional cards are associated with the credit or debit account. A back-ordered or pre-ordered item shipped. A gift order shipped. An order placed outside Amazon.com using Amazon Pay. Amazon Pay orders begin with ‘P01’ and are followed by 14 digits. Check your Amazon Pay Account for your order history. For further assistance with any Amazon Pay transactions, see the Amazon Pay Help pages. An order was split into multiple shipments or sent to multiple shipping addresses. Note: This appears on your statement as separate charges. If the charge isn't explained by any of these situations, contact us by phone and have the following information available: Date of the charge. Amount of the charge. Your name, email address, and phone number. Charge ID, a unique 9-digit alphanumeric code that Customer Service can use to locate your charge, e.g., Amazon.com*A123B4CD5, Prime Now*B123B4CD5, AMZN Mktp US*C123B4CD5. Note: This ID only appears when the card is charged. It is not present on Pending charges (Authorizations). Use your order history to review your orders and shipments to compare the charges with the charges on your bank statement..Cancel Subscribe with Amazon Subscriptions: You can cancel your Subscribe with Amazon subscriptions at any time from Your Memberships and Subscriptions in Your Account. To cancel a subscription you purchased using Subscribe with Amazon: Go to [Your Memberships and Subscriptions](https://www.amazon.com/yourmembershipsandsubscriptions). Select Manage Subscription next to the subscription you'd like to cancel. Click the link under Advance Controls to be directed to the main subscription page. From this page, you can end your subscription. About Cancellations and Refunds for Digital Subscriptions. Once you cancel, the renewal date in your subscription details becomes the end date. You'll no longer be charged for the subscription, but can continue to access it until this date. You can cancel a subscription at any time, with no early termination fees. For subscriptions with a renewal period longer than one month, new subscribers are eligible for a full refund if they cancel within 7 days of purchase. Access to the subscription is removed as soon as a refund is issued. Outside of the refund window, or for subscriptions with a billing period one month or less in length, cancellation turns off auto-renew for the subscription so you won't be billed again. Once you cancel you will still have access to the subscription through the end of your current paid billing period. For subscriptions with a billing period of 6 months or longer, or when otherwise required by law, we'll notify you when the subscription is set to renew. You can then change your billing information or cancel your subscription before you're charged again. Note: To learn more about auto-renewals, go to [About Auto-Renewal for Subscribe with Amazon Subscriptions (Digital Subscriptions Only)](https://www.amazon.com/gp/help/customer/display.html/?nodeId=202013370). About Cancellations for Physical Subscriptions. Once you cancel, no further orders will be placed. You will not be charged until the order ships. Cancelling a subscription does not cancel any pending unshipped order. To cancel pending unshipped orders, you can go to Your Orders and request cancellation\"\n",
    "max_seq_length = 384\n",
    "doc_stride = 128\n",
    "max_query_length = 64\n",
    "model_type = 'bert'\n",
    "n_best_size = 1\n",
    "max_answer_length = 150\n",
    "do_lower_case = True\n",
    "example = SquadExample(\n",
    "            qas_id=0,\n",
    "            question_text=question,\n",
    "            context_text=context,\n",
    "            answer_text=None,\n",
    "            start_position_character=None,\n",
    "            title=None,\n",
    "            answers=None,\n",
    "        )\n",
    "squad_convert_example_to_features_init(tokenizer)\n",
    "features = squad_convert_example_to_features(example, max_seq_length, doc_stride, max_query_length, False)\n",
    "\n",
    "new_features = []\n",
    "unique_id = 1000000000\n",
    "for feature in features:\n",
    "    feature.example_index = 0\n",
    "    feature.unique_id = unique_id\n",
    "    new_features.append(feature)\n",
    "    unique_id += 1\n",
    "features = new_features\n",
    "del new_features    \n",
    "\n",
    "all_input_ids = torch.tensor([f.input_ids for f in features], dtype=torch.long)\n",
    "all_attention_masks = torch.tensor([f.attention_mask for f in features], dtype=torch.long)\n",
    "all_token_type_ids = torch.tensor([f.token_type_ids for f in features], dtype=torch.long)\n",
    "all_cls_index = torch.tensor([f.cls_index for f in features], dtype=torch.long)\n",
    "all_p_mask = torch.tensor([f.p_mask for f in features], dtype=torch.float)\n",
    "all_is_impossible = torch.tensor([f.is_impossible for f in features], dtype=torch.float)\n",
    "all_feature_index = torch.arange(all_input_ids.size(0), dtype=torch.long)\n",
    "dataset = TensorDataset( all_input_ids, all_attention_masks, all_token_type_ids, all_feature_index, all_cls_index, all_p_mask)\n",
    "sampler = SequentialSampler(dataset)\n",
    "dataloader = DataLoader(dataset, sampler=sampler, batch_size=len(dataset))\n",
    "\n",
    "all_results = []\n",
    "for batch in dataloader:\n",
    "    model.eval()\n",
    "    batch = tuple(t.to(device) for t in batch)\n",
    "\n",
    "    with torch.no_grad():\n",
    "        inputs = {\n",
    "            \"input_ids\": batch[0],\n",
    "            \"attention_mask\": batch[1],\n",
    "             \"token_type_ids\": batch[2],\n",
    "        }\n",
    "\n",
    "        if model_type in [\"xlm\", \"roberta\", \"distilbert\", \"camembert\", \"bart\"]:\n",
    "            del inputs[\"token_type_ids\"]\n",
    "\n",
    "        feature_indices = batch[3]\n",
    "\n",
    "        # XLNet and XLM use more arguments for their predictions\n",
    "        if model_type in [\"xlnet\", \"xlm\"]:\n",
    "            inputs.update({\"cls_index\": batch[4], \"p_mask\": batch[5]})\n",
    "            # for lang_id-sensitive xlm models\n",
    "            if hasattr(model, \"config\") and hasattr(model.config, \"lang2id\"):\n",
    "                inputs.update(\n",
    "                    {\"langs\": (torch.ones(batch[0].shape, dtype=torch.int64) * args.lang_id).to(args.device)}\n",
    "                )\n",
    "        outputs = model(**inputs)\n",
    "\n",
    "\n",
    "    for i, feature_index in enumerate(feature_indices):\n",
    "        eval_feature = features[feature_index.item()]\n",
    "        unique_id = int(eval_feature.unique_id)\n",
    "\n",
    "        output = [to_list(output[i]) for output in outputs]\n",
    "\n",
    "        # Some models (XLNet, XLM) use 5 arguments for their predictions, while the other \"simpler\"\n",
    "        # models only use two.\n",
    "        if len(output) >= 5:\n",
    "            start_logits = output[0]\n",
    "            start_top_index = output[1]\n",
    "            end_logits = output[2]\n",
    "            end_top_index = output[3]\n",
    "            cls_logits = output[4]\n",
    "\n",
    "            result = SquadResult(\n",
    "                    unique_id,\n",
    "                    start_logits,\n",
    "                    end_logits,\n",
    "                    start_top_index=start_top_index,\n",
    "                    end_top_index=end_top_index,\n",
    "                    cls_logits=cls_logits,\n",
    "                )\n",
    "\n",
    "        else:\n",
    "            start_logits, end_logits = output\n",
    "            result = SquadResult(unique_id, start_logits, end_logits)\n",
    "        all_results.append(result)\n",
    "\n",
    "predictions_realtime = compute_predictions_logits(\n",
    "        [example],\n",
    "        features,\n",
    "        all_results,\n",
    "        n_best_size,\n",
    "        max_answer_length,\n",
    "        do_lower_case,\n",
    "        None,\n",
    "        None,\n",
    "        None,\n",
    "        True,\n",
    "        True,\n",
    "        0.0,\n",
    "        tokenizer,\n",
    "        )\n",
    "print(context,'\\n\\n')\n",
    "print(predictions_realtime[0])"
   ]
  },
  {
   "cell_type": "markdown",
   "metadata": {},
   "source": [
    "## (Information Retrieval + Answer Extraction)"
   ]
  },
  {
   "cell_type": "markdown",
   "metadata": {},
   "source": [
    "### Bulk Inference (IR + AE)"
   ]
  },
  {
   "cell_type": "code",
   "execution_count": null,
   "metadata": {},
   "outputs": [],
   "source": [
    "import sys\n",
    "sys.path.append('/home/srikamma/efs/workspace/CS-QASystem-Torch/src/CS-QASystem-Torch/src/cs_qa_system_torch/')"
   ]
  },
  {
   "cell_type": "code",
   "execution_count": null,
   "metadata": {},
   "outputs": [],
   "source": [
    "%%time\n",
    "%run -i /home/srikamma/efs/workspace/CS-QASystem-Torch/src/CS-QASystem-Torch/src/cs_qa_system_torch/ir_and_ae/ir_ae_inference.py \\\n",
    "        --passage_collection_path '/data/QAData/InformationRetrievalData/amazon/goldlabel_collection.json' \\\n",
    "        --qrels_path '/data/QAData/InformationRetrievalData/amazon/goldlabel_qrels.json' \\\n",
    "        --ir_model_name 'BM25Okapi' \\\n",
    "        --word_tokenizer_name 'simple_word_tokenizer' \\\n",
    "        --index_top_n 50 \\\n",
    "        --ir_model_weight 0.46 \\\n",
    "        --model_name_or_path '/home/srikamma/efs/work/QASystem/QAModel/output_torch/cross/ir_artifacts/bertbase/' \\\n",
    "        --architecture 'cross' \\\n",
    "        --do_lower_case \\\n",
    "        --ir_top_n 2 \\\n",
    "        --ae_params_dir '/home/srikamma/efs/work/QASystem/QAModel/output_answer_extraction/bert_output' \\\n",
    "        --version_2_with_negative \\\n",
    "        --max_seq_length 384 \\\n",
    "        --max_answer_length 100 \\\n",
    "        --doc_stride 128 \\\n",
    "        --test_batch_size 512 \\\n",
    "        --prediction_file 'prediction.csv' \\\n",
    "        --gpu 2,3 \\\n",
    "        --output_dir '/home/srikamma/efs/work/QASystem/QAModel/output_torch/cross/ir_artifacts/bertbase_inference_ir_ae/'\n",
    "\n",
    "\n",
    "#         --passage_collection_path '/data/QAData/InformationRetrievalData/amazon/collection.json' \\\n",
    "#         --qrels_path '/data/QAData/InformationRetrievalData/amazon/qrels.json' \\\n",
    "    "
   ]
  },
  {
   "cell_type": "code",
   "execution_count": null,
   "metadata": {},
   "outputs": [],
   "source": [
    "results"
   ]
  },
  {
   "cell_type": "markdown",
   "metadata": {},
   "source": [
    "### Real Time Inference (IR+AE)"
   ]
  },
  {
   "cell_type": "code",
   "execution_count": null,
   "metadata": {},
   "outputs": [],
   "source": [
    "import sys\n",
    "sys.path.append('/home/srikamma/efs/workspace/CS-QASystem-Torch/src/CS-QASystem-Torch/src/cs_qa_system_torch/')\n",
    "from ir_and_ae.ir_ae_inference import ScorePrediction\n",
    "import pandas as pd\n",
    "pd.set_option('display.max_colwidth', None)"
   ]
  },
  {
   "cell_type": "code",
   "execution_count": null,
   "metadata": {},
   "outputs": [],
   "source": [
    "%%time\n",
    "query='unknown charge'\n",
    "out = ScorePrediction.get_answer(query)\n",
    "print(out)"
   ]
  }
 ],
 "metadata": {
  "kernelspec": {
   "display_name": "torch",
   "language": "python",
   "name": "torch"
  },
  "language_info": {
   "codemirror_mode": {
    "name": "ipython",
    "version": 3
   },
   "file_extension": ".py",
   "mimetype": "text/x-python",
   "name": "python",
   "nbconvert_exporter": "python",
   "pygments_lexer": "ipython3",
   "version": "3.7.7"
  },
  "toc-autonumbering": true,
  "toc-showcode": false,
  "toc-showmarkdowntxt": false,
  "toc-showtags": false
 },
 "nbformat": 4,
 "nbformat_minor": 4
}
