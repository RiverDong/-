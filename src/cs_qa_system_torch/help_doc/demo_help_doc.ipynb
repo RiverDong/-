{
 "cells": [
  {
   "cell_type": "code",
   "execution_count": null,
   "metadata": {},
   "outputs": [],
   "source": [
    "import sys\n",
    "sys.path.append('/path/to/CS-QASystem-Torch/src/CS-QASystem-Torch/src/cs_qa_system_torch/')\n",
    "\n",
    "import pandas as pd\n",
    "pd.set_option('display.max_rows', 30)\n",
    "pd.set_option('display.max_columns', None)\n",
    "pd.set_option('display.width', 1000)\n",
    "pd.set_option('max_colwidth', 1000)\n",
    "\n",
    "from help_doc.help_doc import HelpDoc"
   ]
  },
  {
   "cell_type": "code",
   "execution_count": null,
   "metadata": {},
   "outputs": [],
   "source": [
    "# Try to load an existing HelpDoc instance. If it doesn't exist, create a new one\n",
    "# By default, homepage_url is set as \"www.amazon.com\" and language is set as None (US marketplace + EN language)\n",
    "try:\n",
    "    us_en_help_doc = HelpDoc('us_en_help_doc', '/path/to/local/working/dir', load=True)\n",
    "    us_en_help_doc.set_logger_level('DEBUG')\n",
    "except FileNotFoundError:\n",
    "    us_en_help_doc = HelpDoc('us_en_help_doc', '/path/to/local/working/dir', logger_level='DEBUG', load=False)\n",
    "\n",
    "print('The created / loaded instance contains the HTML data pulled at the following times:')\n",
    "us_en_help_doc.time_list()"
   ]
  },
  {
   "cell_type": "markdown",
   "metadata": {
    "tags": []
   },
   "source": [
    "# HTML Pulling"
   ]
  },
  {
   "cell_type": "code",
   "execution_count": null,
   "metadata": {
    "scrolled": true
   },
   "outputs": [],
   "source": [
    "# Another backend you can use is \"selenium\", but it is recommended to use \"requests\"\n",
    "pulled_data = us_en_help_doc.pull('https://www.amazon.com/gp/help/customer/display.html?nodeId=GSNBBJP63SM65UDB', \n",
    "                                  backend='requests', max_n_failure=1, n_cpu=1)\n",
    "print(pulled_data.keys())\n",
    "pulled_data"
   ]
  },
  {
   "cell_type": "code",
   "execution_count": null,
   "metadata": {
    "scrolled": true
   },
   "outputs": [],
   "source": [
    "pulled_data = us_en_help_doc.pull([\n",
    "    'https://www.amazon.com/gp/help/customer/display.html?nodeId=GSNBBJP63SM65UDB', \n",
    "    'http://www.amazon.com/gp/help/customer/display.html?nodeId=G6E3B2E8QPHQ88KF', \n",
    "    'https://www.amazon.com/gp/help/customer/display.html?nodeId=G6YZ2FWM3PD2CMYV'\n",
    "], backend='requests', max_n_failure=1, n_cpu=1)\n",
    "print(len(pulled_data))\n",
    "pulled_data"
   ]
  },
  {
   "cell_type": "code",
   "execution_count": null,
   "metadata": {
    "scrolled": true
   },
   "outputs": [],
   "source": [
    "us_en_help_doc.pull('GSNBBJP63SM65UDB', \n",
    "                    backend='requests', max_n_failure=1, n_cpu=1)"
   ]
  },
  {
   "cell_type": "code",
   "execution_count": null,
   "metadata": {
    "scrolled": true
   },
   "outputs": [],
   "source": [
    "us_en_help_doc.pull([\n",
    "    'GSNBBJP63SM65UDB', \n",
    "    'https://www.amazon.com/gp/help/customer/display.html?nodeId=G6E3B2E8QPHQ88KF', \n",
    "    'G6YZ2FWM3PD2CMYV'\n",
    "], backend='requests', max_n_failure=1, n_cpu=1)"
   ]
  },
  {
   "cell_type": "code",
   "execution_count": null,
   "metadata": {},
   "outputs": [],
   "source": [
    "us_en_help_doc.pull('www.amazon.com', \n",
    "                    backend='requests', max_n_failure=1, n_cpu=1)"
   ]
  },
  {
   "cell_type": "code",
   "execution_count": null,
   "metadata": {
    "scrolled": true
   },
   "outputs": [],
   "source": [
    "us_en_help_doc.pull([\n",
    "    'www.amazon.com', \n",
    "    'abc', \n",
    "    'https://www.amazon.com/gp/help/customer/display.html?nodeId=abc'\n",
    "], backend='requests', max_n_failure=1, n_cpu=1)"
   ]
  },
  {
   "cell_type": "code",
   "execution_count": null,
   "metadata": {},
   "outputs": [],
   "source": [
    "# The above operations have not \"saved\" the pulled HTML to HelpDoc instance\n",
    "# To save the pulled HTML to HelpDoc instance, call the \"pull_and_save\" method\n",
    "time_pulled, df_html = us_en_help_doc.pull_and_save([\n",
    "    'https://www.amazon.com/gp/help/customer/display.html?nodeId=GSNBBJP63SM65UDB', \n",
    "    'http://www.amazon.com/gp/help/customer/display.html?nodeId=G6E3B2E8QPHQ88KF', \n",
    "    'https://www.amazon.com/gp/help/customer/display.html?nodeId=G6YZ2FWM3PD2CMYV'\n",
    "], max_n_raw_data=3, backend='requests', max_n_failure=1, n_cpu=1)\n",
    "\n",
    "# Save the HelpDoc to hard disk if you want\n",
    "# us_en_help_doc.save()\n",
    "\n",
    "print(time_pulled)\n",
    "print(us_en_help_doc.time_list())\n",
    "df_html"
   ]
  },
  {
   "cell_type": "markdown",
   "metadata": {
    "jp-MarkdownHeadingCollapsed": true,
    "tags": []
   },
   "source": [
    "# HTML Pulling + Parsing"
   ]
  },
  {
   "cell_type": "code",
   "execution_count": null,
   "metadata": {},
   "outputs": [],
   "source": [
    "parsed_data = us_en_help_doc.parse(\n",
    "    us_en_help_doc.pull('https://www.amazon.com/gp/help/customer/display.html?nodeId=GSNBBJP63SM65UDB'), \n",
    "    n_cpu=1\n",
    ")\n",
    "\n",
    "print(parsed_data.keys())\n",
    "us_en_help_doc.log_data_parsed(parsed_data, print, width=100)"
   ]
  },
  {
   "cell_type": "code",
   "execution_count": null,
   "metadata": {},
   "outputs": [],
   "source": [
    "parsed_data = us_en_help_doc.parse(\n",
    "    us_en_help_doc.pull([\n",
    "        'https://www.amazon.com/gp/help/customer/display.html?nodeId=GSNBBJP63SM65UDB', \n",
    "        'G6E3B2E8QPHQ88KF', \n",
    "        'www.amazon.com'\n",
    "    ]), \n",
    "    n_cpu=1\n",
    ")\n",
    "\n",
    "print(len(parsed_data))\n",
    "for data in parsed_data:\n",
    "    us_en_help_doc.log_data_parsed(data, print, width=80)\n",
    "    print('')"
   ]
  },
  {
   "cell_type": "code",
   "execution_count": null,
   "metadata": {},
   "outputs": [],
   "source": [
    "# To parse the HTML data obtained above by \"pull_and_save\" (i.e., the HTML data in \"df_html\") and save the parsed data to the HelpDoc instance, call the \"parse_and_save\" method\n",
    "# The \"parse\" and \"parse_and_save\" methods can perfectly parse HTMLs of ~2500 help documents, while handling tons of corner cases and even mistakes in HTMLs\n",
    "time_pulled, df_html_parsed = us_en_help_doc.parse_and_save(-1, n_cpu=1) # \"-1\" means parsing the \"last\" pulled HTML data\n",
    "\n",
    "print(time_pulled)\n",
    "df_html_parsed"
   ]
  },
  {
   "cell_type": "markdown",
   "metadata": {},
   "source": [
    "# Access, Delete, Insert, Update Existing Data"
   ]
  },
  {
   "cell_type": "code",
   "execution_count": null,
   "metadata": {},
   "outputs": [],
   "source": [
    "us_en_help_doc.time_list()"
   ]
  },
  {
   "cell_type": "markdown",
   "metadata": {},
   "source": [
    "## Parsed HTML Data "
   ]
  },
  {
   "cell_type": "code",
   "execution_count": null,
   "metadata": {
    "scrolled": true
   },
   "outputs": [],
   "source": [
    "us_en_help_doc[-1]"
   ]
  },
  {
   "cell_type": "code",
   "execution_count": null,
   "metadata": {},
   "outputs": [],
   "source": [
    "del us_en_help_doc[-2]"
   ]
  },
  {
   "cell_type": "code",
   "execution_count": null,
   "metadata": {},
   "outputs": [],
   "source": [
    "# If the time stamp doesn't exist, you will insert the new dataframe of parsed HTML data \"df_new\"\n",
    "# If the time stamp already exists, you will update the old dataframe of parsed HTML data with the new one \"df_new\"\n",
    "us_en_help_doc['2021-08-30-11-00-25-PDT'] = df_new"
   ]
  },
  {
   "cell_type": "markdown",
   "metadata": {},
   "source": [
    "## Raw HTML Data"
   ]
  },
  {
   "cell_type": "code",
   "execution_count": null,
   "metadata": {
    "scrolled": true
   },
   "outputs": [],
   "source": [
    "us_en_help_doc.df_raw_data('2021-08-30-11-00-25-PDT')"
   ]
  },
  {
   "cell_type": "code",
   "execution_count": null,
   "metadata": {},
   "outputs": [],
   "source": [
    "us_en_help_doc.del_raw_data(-1)"
   ]
  },
  {
   "cell_type": "markdown",
   "metadata": {},
   "source": [
    "# Compare Help Documents Pulled & Parsed at Different Times"
   ]
  },
  {
   "cell_type": "code",
   "execution_count": null,
   "metadata": {
    "scrolled": true
   },
   "outputs": [],
   "source": [
    "df_compare = us_en_help_doc.compare(-3, -2)\n",
    "\n",
    "print(df_compare.shape)\n",
    "df_compare"
   ]
  },
  {
   "cell_type": "code",
   "execution_count": null,
   "metadata": {
    "scrolled": true
   },
   "outputs": [],
   "source": [
    "df_compare = us_en_help_doc.compare(-3, -2, col_compare=('text', 'sidebar', 'breadcrumb'))\n",
    "\n",
    "print(df_compare.shape)\n",
    "df_compare"
   ]
  },
  {
   "cell_type": "code",
   "execution_count": null,
   "metadata": {
    "scrolled": true
   },
   "outputs": [],
   "source": [
    "df_compare = us_en_help_doc.compare(-3, -2, col_compare=('text', ))\n",
    "\n",
    "print(df_compare.shape)\n",
    "df_compare"
   ]
  },
  {
   "cell_type": "markdown",
   "metadata": {},
   "source": [
    "# Check Validity of Links in Documents"
   ]
  },
  {
   "cell_type": "code",
   "execution_count": null,
   "metadata": {},
   "outputs": [],
   "source": [
    "error = us_en_help_doc.check('https://www.amazon.com/gp/help/customer/display.html?nodeId=G2202016320', \n",
    "                             backend='requests', max_n_failure=1, n_cpu=1)\n",
    "error"
   ]
  },
  {
   "cell_type": "code",
   "execution_count": null,
   "metadata": {},
   "outputs": [],
   "source": [
    "error = us_en_help_doc.check([\n",
    "    'www.google.com',\n",
    "    'https://s3-us-west-2.amazonaws.com/customerdocumentation/EK2/Get+Started+with+Kindle+(2nd+Generation).pdf', \n",
    "    'mailto:copyright@amazon.com', \n",
    "    'https://www.amazon.com/gp/help/customer/display.html/?nodeId=GV38326YW5JX9V9X', \n",
    "    'https://www.amazon.com/gp/help/customer/display.html?nodeId=G6YZ2FWM3PD2CMYV'\n",
    "], backend='requests', max_n_failure=1, n_cpu=1)\n",
    "\n",
    "error"
   ]
  },
  {
   "cell_type": "code",
   "execution_count": null,
   "metadata": {
    "scrolled": true
   },
   "outputs": [],
   "source": [
    "time_pulled, df_url_in_doc = us_en_help_doc.check_and_save(-1, backend='requests', max_n_failure=2, n_cpu=1)\n",
    "df_url_in_doc"
   ]
  },
  {
   "cell_type": "code",
   "execution_count": null,
   "metadata": {
    "scrolled": true
   },
   "outputs": [],
   "source": [
    "sorted(df_url_in_doc['url_in_doc'].tolist())"
   ]
  },
  {
   "cell_type": "code",
   "execution_count": null,
   "metadata": {},
   "outputs": [],
   "source": [
    "df_url_in_doc['error'].value_counts()"
   ]
  },
  {
   "cell_type": "code",
   "execution_count": null,
   "metadata": {},
   "outputs": [],
   "source": [
    "# For example, \n",
    "# \"Alexa Help Videos\" in https://www.amazon.com/gp/help/customer/display.html?nodeId=GENXY8NAJRLAXGBT is an invalid link\n",
    "# \"Marketplace Returns and Refunds\" in https://www.amazon.com/gp/help/customer/display.html?nodeId=GKUY8GVEZ5DZ89QR is an invalid link\n",
    "df_url_in_doc.loc[df_url_in_doc['error'] == 'HelpDocNotFound', :]"
   ]
  },
  {
   "cell_type": "markdown",
   "metadata": {},
   "source": [
    "# Wrap Up Everything to Automatically & Regularly Update Help Document Collection"
   ]
  },
  {
   "cell_type": "code",
   "execution_count": null,
   "metadata": {},
   "outputs": [],
   "source": [
    "# Create a cron job on GPU Machine 2 (see below) to automatically run the following scripts every 6 hours to update the help document collection:\n",
    "\n",
    "# SHELL=/bin/bash\n",
    "# 0 */6 * * * PYTHONPATH=/path/to/python/site-packages /path/to/bin/python /path/to/the/following/scripts.py\n",
    "\n",
    "###################################################################################################################################################\n",
    "import os\n",
    "import shutil\n",
    "from help_doc.help_doc import HelpDoc, help_doc_nodeid_from_s3\n",
    "\n",
    "# Create/load the help doc module\n",
    "try:\n",
    "    us_en_help_doc = HelpDoc('us_en_help_doc', '/local/dir/on/GPU/Machine', load=True)\n",
    "except FileNotFoundError:\n",
    "    us_en_help_doc = HelpDoc('us_en_help_doc', '/local/dir/on/GPU/Machine', logger_level='INFO', load=False)\n",
    "\n",
    "# Get the list of NodeID\n",
    "us_en_nodeid, _ = help_doc_nodeid_from_s3(\n",
    "    us_en_help_doc.root_dir,\n",
    "    s3_file_name_prefix='US-en',\n",
    "    row_filter=lambda x: x.loc['breadcrumb'].startswith('Help & Customer Service'),\n",
    "    s3_bucket_name='cs-help-index-data'\n",
    ")\n",
    "\n",
    "# Delete the NodeID downloaded from S3 to save space, but please always double check to make sure this is the correct path you want to delete\n",
    "shutil.rmtree(os.path.join(us_en_help_doc.root_dir, 'cs-help-index-data'))  \n",
    "\n",
    "# Pull HTMLs, parse HTMLs, and check invalid URLs in each document\n",
    "us_en_help_doc(us_en_nodeid, s3_bucket_name='your_s3_bucket_name', s3_dir='remote/dir/in/your/s3/bucket', \n",
    "               max_n_raw_data=2, n_cpu_pull=1, n_cpu_parse=10, n_cpu_check=1)\n",
    "\n",
    "# Save the help doc module\n",
    "us_en_help_doc.save()"
   ]
  },
  {
   "cell_type": "code",
   "execution_count": null,
   "metadata": {},
   "outputs": [],
   "source": [
    "us_en_nodeid = [\n",
    "    'https://www.amazon.com/gp/help/customer/display.html?nodeId=GSNBBJP63SM65UDB', \n",
    "    'https://www.amazon.com/gp/help/customer/display.html?nodeId=G6E3B2E8QPHQ88KF', \n",
    "    'https://www.amazon.com/gp/help/customer/display.html?nodeId=G6YZ2FWM3PD2CMYV'\n",
    "]\n",
    "us_en_help_doc(us_en_nodeid, s3_bucket_name='qyouran', s3_dir='help_doc_production_demo/help_doc', \n",
    "               max_n_raw_data=2, n_cpu_pull=1, n_cpu_parse=1, n_cpu_check=1)"
   ]
  },
  {
   "cell_type": "markdown",
   "metadata": {},
   "source": [
    "# Other Marketplaces"
   ]
  },
  {
   "cell_type": "code",
   "execution_count": null,
   "metadata": {},
   "outputs": [],
   "source": [
    "# You should be able to do all above mentioned for any other marketplaces, possibly after making minor changes"
   ]
  },
  {
   "cell_type": "code",
   "execution_count": null,
   "metadata": {
    "scrolled": true
   },
   "outputs": [],
   "source": [
    "# GB marketplace + EN language\n",
    "help_doc = HelpDoc('gb_en_help_doc', '/Users/qyouran/Documents/QA/QABotHelpDocDemo', logger_level='DEBUG', \n",
    "                   homepage_url='www.amazon.co.uk', language=None)\n",
    "help_doc.log_data_parsed(help_doc.parse(help_doc.pull('EF528GN65XSJ7V8')), print)"
   ]
  },
  {
   "cell_type": "code",
   "execution_count": null,
   "metadata": {
    "scrolled": true
   },
   "outputs": [],
   "source": [
    "# JP marketplace + JA language\n",
    "help_doc = HelpDoc('jp_ja_help_doc', '/Users/qyouran/Documents/QA/QABotHelpDocDemo', logger_level='DEBUG', \n",
    "                   homepage_url='www.amazon.co.jp', language=None)\n",
    "help_doc.log_data_parsed(help_doc.parse(help_doc.pull('EF528GN65XSJ7V8')), print)"
   ]
  },
  {
   "cell_type": "code",
   "execution_count": null,
   "metadata": {
    "scrolled": true
   },
   "outputs": [],
   "source": [
    "# JP marketplace + EN language\n",
    "help_doc = HelpDoc('jp_en_help_doc', '/Users/qyouran/Documents/QA/QABotHelpDocDemo', logger_level='DEBUG', \n",
    "                   homepage_url='www.amazon.co.jp', language='en_US')\n",
    "help_doc.log_data_parsed(help_doc.parse(help_doc.pull('EF528GN65XSJ7V8')), print)"
   ]
  },
  {
   "cell_type": "code",
   "execution_count": null,
   "metadata": {
    "scrolled": true
   },
   "outputs": [],
   "source": [
    "# DE marketplace + DE language\n",
    "help_doc = HelpDoc('de_de_help_doc', '/Users/qyouran/Documents/QA/QABotHelpDocDemo', logger_level='DEBUG', \n",
    "                   homepage_url='www.amazon.de', language=None)\n",
    "help_doc.log_data_parsed(help_doc.parse(help_doc.pull('EF528GN65XSJ7V8')), print)"
   ]
  },
  {
   "cell_type": "code",
   "execution_count": null,
   "metadata": {
    "scrolled": true
   },
   "outputs": [],
   "source": [
    "# DE marketplace + NL language\n",
    "help_doc = HelpDoc('de_nl_help_doc', '/Users/qyouran/Documents/QA/QABotHelpDocDemo', logger_level='DEBUG', \n",
    "                   homepage_url='www.amazon.de', language='nl_NL')\n",
    "help_doc.log_data_parsed(help_doc.parse(help_doc.pull('EF528GN65XSJ7V8')), print)"
   ]
  },
  {
   "cell_type": "code",
   "execution_count": null,
   "metadata": {
    "scrolled": true
   },
   "outputs": [],
   "source": [
    "# CN marketplace + ZH language\n",
    "help_doc = HelpDoc('cn_zh_help_doc', '/Users/qyouran/Documents/QA/QABotHelpDocDemo', logger_level='DEBUG', \n",
    "                   homepage_url='www.amazon.cn', language=None)\n",
    "help_doc.log_data_parsed(help_doc.parse(help_doc.pull('201956070')), print)"
   ]
  },
  {
   "cell_type": "code",
   "execution_count": null,
   "metadata": {
    "scrolled": true
   },
   "outputs": [],
   "source": [
    "# IN marketplace + HI language\n",
    "help_doc = HelpDoc('in_hi_help_doc', '/Users/qyouran/Documents/QA/QABotHelpDocDemo', logger_level='DEBUG', \n",
    "                   homepage_url='www.amazon.in', language='hi_IN')\n",
    "help_doc.log_data_parsed(help_doc.parse(help_doc.pull('201956070')), print)"
   ]
  }
 ],
 "metadata": {
  "kernelspec": {
   "display_name": "qabot2",
   "language": "python",
   "name": "qabot2"
  },
  "language_info": {
   "codemirror_mode": {
    "name": "ipython",
    "version": 3
   },
   "file_extension": ".py",
   "mimetype": "text/x-python",
   "name": "python",
   "nbconvert_exporter": "python",
   "pygments_lexer": "ipython3",
   "version": "3.7.4"
  },
  "toc-autonumbering": true,
  "toc-showcode": false,
  "toc-showmarkdowntxt": false,
  "toc-showtags": false
 },
 "nbformat": 4,
 "nbformat_minor": 4
}
